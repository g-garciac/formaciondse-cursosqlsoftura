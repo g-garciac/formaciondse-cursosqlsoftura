{
    "metadata": {
        "kernelspec": {
            "name": "SQL",
            "display_name": "SQL",
            "language": "sql"
        },
        "language_info": {
            "name": "sql",
            "version": ""
        }
    },
    "nbformat_minor": 2,
    "nbformat": 4,
    "cells": [
        {
            "cell_type": "code",
            "source": [
                "SELECT COUNT(*) FROM Ventas"
            ],
            "metadata": {
                "azdata_cell_guid": "45bb62e7-43ee-43a4-9ec9-9d78791f69db",
                "language": "sql"
            },
            "outputs": [
                {
                    "output_type": "display_data",
                    "data": {
                        "text/html": "(1 row affected)"
                    },
                    "metadata": {}
                },
                {
                    "output_type": "display_data",
                    "data": {
                        "text/html": "Total execution time: 00:00:00.747"
                    },
                    "metadata": {}
                },
                {
                    "output_type": "execute_result",
                    "execution_count": 1,
                    "data": {
                        "application/vnd.dataresource+json": {
                            "schema": {
                                "fields": [
                                    {
                                        "name": "(No column name)"
                                    }
                                ]
                            },
                            "data": [
                                {
                                    "(No column name)": "1216938"
                                }
                            ]
                        },
                        "text/html": "<table><tr><th>(No column name)</th></tr><tr><td>1216938</td></tr></table>"
                    },
                    "metadata": {}
                }
            ],
            "execution_count": 1
        },
        {
            "cell_type": "code",
            "source": [
                "sp_helpindex 'Ventas'"
            ],
            "metadata": {
                "azdata_cell_guid": "db9695e6-cd42-435e-9e0c-07d861445cfb",
                "language": "sql"
            },
            "outputs": [
                {
                    "output_type": "display_data",
                    "data": {
                        "text/html": "Commands completed successfully."
                    },
                    "metadata": {}
                },
                {
                    "output_type": "display_data",
                    "data": {
                        "text/html": "Total execution time: 00:00:00.050"
                    },
                    "metadata": {}
                },
                {
                    "output_type": "execute_result",
                    "execution_count": 3,
                    "data": {
                        "application/vnd.dataresource+json": {
                            "schema": {
                                "fields": [
                                    {
                                        "name": "index_name"
                                    },
                                    {
                                        "name": "index_description"
                                    },
                                    {
                                        "name": "index_keys"
                                    }
                                ]
                            },
                            "data": [
                                {
                                    "index_name": "IX_ClienteId",
                                    "index_description": "nonclustered",
                                    "index_keys": "ClienteId"
                                },
                                {
                                    "index_name": "IX_Fecha",
                                    "index_description": "nonclustered",
                                    "index_keys": "Fecha"
                                },
                                {
                                    "index_name": "IX_Folio",
                                    "index_description": "nonclustered, unique",
                                    "index_keys": "Folio"
                                },
                                {
                                    "index_name": "IX_FolioTimbre",
                                    "index_description": "nonclustered",
                                    "index_keys": "FolioTimbre"
                                },
                                {
                                    "index_name": "IX_Sucursal",
                                    "index_description": "nonclustered",
                                    "index_keys": "Sucursal"
                                },
                                {
                                    "index_name": "IX_TipoRegistro",
                                    "index_description": "nonclustered",
                                    "index_keys": "TipoRegistro"
                                },
                                {
                                    "index_name": "PK_T_5.Ventas",
                                    "index_description": "clustered, unique, primary key",
                                    "index_keys": "Id"
                                },
                                {
                                    "index_name": "T_5IdxVtaTipoRegEstadoIncludeFecha",
                                    "index_description": "nonclustered",
                                    "index_keys": "TipoRegistro, Estado"
                                }
                            ]
                        },
                        "text/html": "<table><tr><th>index_name</th><th>index_description</th><th>index_keys</th></tr><tr><td>IX_ClienteId</td><td>nonclustered</td><td>ClienteId</td></tr><tr><td>IX_Fecha</td><td>nonclustered</td><td>Fecha</td></tr><tr><td>IX_Folio</td><td>nonclustered, unique</td><td>Folio</td></tr><tr><td>IX_FolioTimbre</td><td>nonclustered</td><td>FolioTimbre</td></tr><tr><td>IX_Sucursal</td><td>nonclustered</td><td>Sucursal</td></tr><tr><td>IX_TipoRegistro</td><td>nonclustered</td><td>TipoRegistro</td></tr><tr><td>PK_T_5.Ventas</td><td>clustered, unique, primary key</td><td>Id</td></tr><tr><td>T_5IdxVtaTipoRegEstadoIncludeFecha</td><td>nonclustered</td><td>TipoRegistro, Estado</td></tr></table>"
                    },
                    "metadata": {}
                }
            ],
            "execution_count": 3
        },
        {
            "cell_type": "code",
            "source": [
                ""
            ],
            "metadata": {
                "azdata_cell_guid": "270598f2-a071-425b-98cf-3136fc267eec",
                "language": "sql"
            },
            "outputs": [],
            "execution_count": null
        },
        {
            "cell_type": "code",
            "source": [
                "select top 10 * from Ventas \r\n",
                "where Fecha BETWEEN '2023-02-04 09:00:00' and '2023-02-04 20:00:00'"
            ],
            "metadata": {
                "azdata_cell_guid": "a8db73ae-bd58-40c8-9064-1aea01d3e4af",
                "language": "sql"
            },
            "outputs": [
                {
                    "output_type": "display_data",
                    "data": {
                        "text/html": "(10 rows affected)"
                    },
                    "metadata": {}
                },
                {
                    "output_type": "display_data",
                    "data": {
                        "text/html": "Total execution time: 00:00:00.178"
                    },
                    "metadata": {}
                },
                {
                    "output_type": "execute_result",
                    "execution_count": 2,
                    "data": {
                        "application/vnd.dataresource+json": {
                            "schema": {
                                "fields": [
                                    {
                                        "name": "Id"
                                    },
                                    {
                                        "name": "Folio"
                                    },
                                    {
                                        "name": "Fecha"
                                    },
                                    {
                                        "name": "RfcCliente"
                                    },
                                    {
                                        "name": "Lugar"
                                    },
                                    {
                                        "name": "LugarFisico"
                                    },
                                    {
                                        "name": "Persona"
                                    },
                                    {
                                        "name": "Turno"
                                    },
                                    {
                                        "name": "Total"
                                    },
                                    {
                                        "name": "TotalImpuesto"
                                    },
                                    {
                                        "name": "TotalDescuento"
                                    },
                                    {
                                        "name": "MetodoPago"
                                    },
                                    {
                                        "name": "FormaPago"
                                    },
                                    {
                                        "name": "Subtotal"
                                    },
                                    {
                                        "name": "NumeroDecimales"
                                    },
                                    {
                                        "name": "Estado"
                                    },
                                    {
                                        "name": "TipoRegistro"
                                    },
                                    {
                                        "name": "FolioTimbre"
                                    },
                                    {
                                        "name": "FechaTimbre"
                                    },
                                    {
                                        "name": "FechaCreacion"
                                    },
                                    {
                                        "name": "FechaModificacion"
                                    },
                                    {
                                        "name": "FechaCancelacionCfd"
                                    },
                                    {
                                        "name": "UsuarioCreacion"
                                    },
                                    {
                                        "name": "UsuarioModificacion"
                                    },
                                    {
                                        "name": "AjusteDelTotal"
                                    },
                                    {
                                        "name": "RowVersion"
                                    },
                                    {
                                        "name": "Sucursal"
                                    },
                                    {
                                        "name": "Costo"
                                    },
                                    {
                                        "name": "TotalImpuestoIeps"
                                    },
                                    {
                                        "name": "PromocionesAplicadas"
                                    },
                                    {
                                        "name": "DescuentoPorc"
                                    },
                                    {
                                        "name": "DescuentoMonto"
                                    },
                                    {
                                        "name": "ComisionesAplicadas"
                                    },
                                    {
                                        "name": "ComisionPorc"
                                    },
                                    {
                                        "name": "ComisionMonto"
                                    },
                                    {
                                        "name": "Notas"
                                    },
                                    {
                                        "name": "ClienteId"
                                    }
                                ]
                            },
                            "data": [
                                {
                                    "Id": "87331ad0-0986-4ee3-a8f3-d699ea79d432",
                                    "Folio": "230204.08312A",
                                    "Fecha": "2023-02-04 14:31:19.343",
                                    "RfcCliente": "XAXX010101000",
                                    "Lugar": "Caja1",
                                    "LugarFisico": "B8975AA77D27",
                                    "Persona": "Matutino1",
                                    "Turno": "Completo",
                                    "Total": "49.000000",
                                    "TotalImpuesto": "0.000000",
                                    "TotalDescuento": "0.000000",
                                    "MetodoPago": "Efectivo",
                                    "FormaPago": "UNA SOLA EXHIBICION",
                                    "Subtotal": "49.000000",
                                    "NumeroDecimales": "255",
                                    "Estado": "0",
                                    "TipoRegistro": "0",
                                    "FolioTimbre": "NULL",
                                    "FechaTimbre": "NULL",
                                    "FechaCreacion": "2023-02-04 14:31:19.343",
                                    "FechaModificacion": "NULL",
                                    "FechaCancelacionCfd": "NULL",
                                    "UsuarioCreacion": "Matutino1",
                                    "UsuarioModificacion": "NULL",
                                    "AjusteDelTotal": "0.000000",
                                    "RowVersion": "0x000000000008F8BD",
                                    "Sucursal": "Sarita",
                                    "Costo": "42.000000",
                                    "TotalImpuestoIeps": "0.000000",
                                    "PromocionesAplicadas": "",
                                    "DescuentoPorc": "0.000000",
                                    "DescuentoMonto": "0.000000",
                                    "ComisionesAplicadas": "",
                                    "ComisionPorc": "0.000000",
                                    "ComisionMonto": "0.000000",
                                    "Notas": "",
                                    "ClienteId": "NULL"
                                },
                                {
                                    "Id": "2a7e3e35-9d84-4e75-af59-681995da06e0",
                                    "Folio": "230204.0839ZH",
                                    "Fecha": "2023-02-04 14:39:56.367",
                                    "RfcCliente": "XAXX010101000",
                                    "Lugar": "Caja1",
                                    "LugarFisico": "B8975AA77D27",
                                    "Persona": "Matutino1",
                                    "Turno": "Completo",
                                    "Total": "7.000000",
                                    "TotalImpuesto": "0.970000",
                                    "TotalDescuento": "0.000000",
                                    "MetodoPago": "Efectivo",
                                    "FormaPago": "UNA SOLA EXHIBICION",
                                    "Subtotal": "6.030000",
                                    "NumeroDecimales": "255",
                                    "Estado": "0",
                                    "TipoRegistro": "0",
                                    "FolioTimbre": "NULL",
                                    "FechaTimbre": "NULL",
                                    "FechaCreacion": "2023-02-04 14:39:56.367",
                                    "FechaModificacion": "NULL",
                                    "FechaCancelacionCfd": "NULL",
                                    "UsuarioCreacion": "Matutino1",
                                    "UsuarioModificacion": "NULL",
                                    "AjusteDelTotal": "0.000000",
                                    "RowVersion": "0x000000000002A8A1",
                                    "Sucursal": "Sarita",
                                    "Costo": "4.500000",
                                    "TotalImpuestoIeps": "0.000000",
                                    "PromocionesAplicadas": "",
                                    "DescuentoPorc": "0.000000",
                                    "DescuentoMonto": "0.000000",
                                    "ComisionesAplicadas": "",
                                    "ComisionPorc": "0.000000",
                                    "ComisionMonto": "0.000000",
                                    "Notas": "",
                                    "ClienteId": "NULL"
                                },
                                {
                                    "Id": "982bbee3-8f88-4fe4-b13f-f20a3cdf1872",
                                    "Folio": "230204.08428D",
                                    "Fecha": "2023-02-04 14:42:08.047",
                                    "RfcCliente": "XAXX010101000",
                                    "Lugar": "Caja1",
                                    "LugarFisico": "B8975AA77D27",
                                    "Persona": "Matutino1",
                                    "Turno": "Completo",
                                    "Total": "24.000000",
                                    "TotalImpuesto": "3.310000",
                                    "TotalDescuento": "0.000000",
                                    "MetodoPago": "Efectivo",
                                    "FormaPago": "UNA SOLA EXHIBICION",
                                    "Subtotal": "20.690000",
                                    "NumeroDecimales": "255",
                                    "Estado": "0",
                                    "TipoRegistro": "0",
                                    "FolioTimbre": "NULL",
                                    "FechaTimbre": "NULL",
                                    "FechaCreacion": "2023-02-04 14:42:08.047",
                                    "FechaModificacion": "NULL",
                                    "FechaCancelacionCfd": "NULL",
                                    "UsuarioCreacion": "Matutino1",
                                    "UsuarioModificacion": "NULL",
                                    "AjusteDelTotal": "0.000000",
                                    "RowVersion": "0x00000000000CC98B",
                                    "Sucursal": "Sarita",
                                    "Costo": "19.000000",
                                    "TotalImpuestoIeps": "0.000000",
                                    "PromocionesAplicadas": "",
                                    "DescuentoPorc": "0.000000",
                                    "DescuentoMonto": "0.000000",
                                    "ComisionesAplicadas": "",
                                    "ComisionPorc": "0.000000",
                                    "ComisionMonto": "0.000000",
                                    "Notas": "",
                                    "ClienteId": "NULL"
                                },
                                {
                                    "Id": "df5e5d16-3546-435a-9105-370dfb5be546",
                                    "Folio": "230204.0842TB",
                                    "Fecha": "2023-02-04 14:42:20.927",
                                    "RfcCliente": "XAXX010101000",
                                    "Lugar": "Caja1",
                                    "LugarFisico": "B8975AA77D27",
                                    "Persona": "Matutino1",
                                    "Turno": "Completo",
                                    "Total": "15.000000",
                                    "TotalImpuesto": "2.070000",
                                    "TotalDescuento": "0.000000",
                                    "MetodoPago": "Efectivo",
                                    "FormaPago": "UNA SOLA EXHIBICION",
                                    "Subtotal": "12.930000",
                                    "NumeroDecimales": "255",
                                    "Estado": "0",
                                    "TipoRegistro": "0",
                                    "FolioTimbre": "NULL",
                                    "FechaTimbre": "NULL",
                                    "FechaCreacion": "2023-02-04 14:42:20.927",
                                    "FechaModificacion": "NULL",
                                    "FechaCancelacionCfd": "NULL",
                                    "UsuarioCreacion": "Matutino1",
                                    "UsuarioModificacion": "NULL",
                                    "AjusteDelTotal": "0.000000",
                                    "RowVersion": "0x00000000000DB6A3",
                                    "Sucursal": "Sarita",
                                    "Costo": "10.000000",
                                    "TotalImpuestoIeps": "0.000000",
                                    "PromocionesAplicadas": "",
                                    "DescuentoPorc": "0.000000",
                                    "DescuentoMonto": "0.000000",
                                    "ComisionesAplicadas": "",
                                    "ComisionPorc": "0.000000",
                                    "ComisionMonto": "0.000000",
                                    "Notas": "",
                                    "ClienteId": "NULL"
                                },
                                {
                                    "Id": "453f7c89-4987-41bf-b44c-1f1b638db58f",
                                    "Folio": "230204.0845P7",
                                    "Fecha": "2023-02-04 14:45:06.413",
                                    "RfcCliente": "XAXX010101000",
                                    "Lugar": "Caja1",
                                    "LugarFisico": "B8975AA77D27",
                                    "Persona": "Matutino1",
                                    "Turno": "Completo",
                                    "Total": "25.000000",
                                    "TotalImpuesto": "0.000000",
                                    "TotalDescuento": "0.000000",
                                    "MetodoPago": "Efectivo",
                                    "FormaPago": "UNA SOLA EXHIBICION",
                                    "Subtotal": "25.000000",
                                    "NumeroDecimales": "255",
                                    "Estado": "0",
                                    "TipoRegistro": "0",
                                    "FolioTimbre": "NULL",
                                    "FechaTimbre": "NULL",
                                    "FechaCreacion": "2023-02-04 14:45:06.413",
                                    "FechaModificacion": "NULL",
                                    "FechaCancelacionCfd": "NULL",
                                    "UsuarioCreacion": "Matutino1",
                                    "UsuarioModificacion": "NULL",
                                    "AjusteDelTotal": "0.000000",
                                    "RowVersion": "0x0000000000089ED1",
                                    "Sucursal": "Sarita",
                                    "Costo": "21.000000",
                                    "TotalImpuestoIeps": "0.000000",
                                    "PromocionesAplicadas": "",
                                    "DescuentoPorc": "0.000000",
                                    "DescuentoMonto": "0.000000",
                                    "ComisionesAplicadas": "",
                                    "ComisionPorc": "0.000000",
                                    "ComisionMonto": "0.000000",
                                    "Notas": "",
                                    "ClienteId": "NULL"
                                },
                                {
                                    "Id": "aad52412-1e16-4dec-ae13-c54da80b2989",
                                    "Folio": "230204.0847AC",
                                    "Fecha": "2023-02-04 14:47:20.877",
                                    "RfcCliente": "XAXX010101000",
                                    "Lugar": "Caja1",
                                    "LugarFisico": "B8975AA77D27",
                                    "Persona": "Matutino1",
                                    "Turno": "Completo",
                                    "Total": "22.000000",
                                    "TotalImpuesto": "3.030000",
                                    "TotalDescuento": "0.000000",
                                    "MetodoPago": "Efectivo",
                                    "FormaPago": "UNA SOLA EXHIBICION",
                                    "Subtotal": "18.970000",
                                    "NumeroDecimales": "255",
                                    "Estado": "0",
                                    "TipoRegistro": "0",
                                    "FolioTimbre": "NULL",
                                    "FechaTimbre": "NULL",
                                    "FechaCreacion": "2023-02-04 14:47:20.877",
                                    "FechaModificacion": "NULL",
                                    "FechaCancelacionCfd": "NULL",
                                    "UsuarioCreacion": "Matutino1",
                                    "UsuarioModificacion": "NULL",
                                    "AjusteDelTotal": "0.000000",
                                    "RowVersion": "0x00000000000A82BB",
                                    "Sucursal": "Sarita",
                                    "Costo": "16.800000",
                                    "TotalImpuestoIeps": "0.000000",
                                    "PromocionesAplicadas": "",
                                    "DescuentoPorc": "0.000000",
                                    "DescuentoMonto": "0.000000",
                                    "ComisionesAplicadas": "",
                                    "ComisionPorc": "0.000000",
                                    "ComisionMonto": "0.000000",
                                    "Notas": "",
                                    "ClienteId": "NULL"
                                },
                                {
                                    "Id": "9bd84c79-6c61-4e48-9a7d-58c9a0b4f60f",
                                    "Folio": "230204.08493E",
                                    "Fecha": "2023-02-04 14:49:42.343",
                                    "RfcCliente": "XAXX010101000",
                                    "Lugar": "Caja1",
                                    "LugarFisico": "B8975AA77D27",
                                    "Persona": "Matutino1",
                                    "Turno": "Completo",
                                    "Total": "23.500000",
                                    "TotalImpuesto": "3.240000",
                                    "TotalDescuento": "0.000000",
                                    "MetodoPago": "Efectivo",
                                    "FormaPago": "UNA SOLA EXHIBICION",
                                    "Subtotal": "20.260000",
                                    "NumeroDecimales": "255",
                                    "Estado": "0",
                                    "TipoRegistro": "0",
                                    "FolioTimbre": "NULL",
                                    "FechaTimbre": "NULL",
                                    "FechaCreacion": "2023-02-04 14:49:42.343",
                                    "FechaModificacion": "NULL",
                                    "FechaCancelacionCfd": "NULL",
                                    "UsuarioCreacion": "Matutino1",
                                    "UsuarioModificacion": "NULL",
                                    "AjusteDelTotal": "0.000000",
                                    "RowVersion": "0x00000000000A8FCB",
                                    "Sucursal": "Sarita",
                                    "Costo": "20.000000",
                                    "TotalImpuestoIeps": "0.000000",
                                    "PromocionesAplicadas": "",
                                    "DescuentoPorc": "0.000000",
                                    "DescuentoMonto": "0.000000",
                                    "ComisionesAplicadas": "",
                                    "ComisionPorc": "0.000000",
                                    "ComisionMonto": "0.000000",
                                    "Notas": "",
                                    "ClienteId": "NULL"
                                },
                                {
                                    "Id": "2f162e6b-ab9e-4d25-9809-da29b6c86cff",
                                    "Folio": "230204.0851XD",
                                    "Fecha": "2023-02-04 14:51:06.527",
                                    "RfcCliente": "XAXX010101000",
                                    "Lugar": "Caja2",
                                    "LugarFisico": "B8975AA77E05",
                                    "Persona": "Vespertino2",
                                    "Turno": "Completo",
                                    "Total": "25.000000",
                                    "TotalImpuesto": "3.450000",
                                    "TotalDescuento": "0.000000",
                                    "MetodoPago": "Efectivo",
                                    "FormaPago": "UNA SOLA EXHIBICION",
                                    "Subtotal": "21.550000",
                                    "NumeroDecimales": "255",
                                    "Estado": "0",
                                    "TipoRegistro": "0",
                                    "FolioTimbre": "NULL",
                                    "FechaTimbre": "NULL",
                                    "FechaCreacion": "2023-02-04 14:51:06.527",
                                    "FechaModificacion": "NULL",
                                    "FechaCancelacionCfd": "NULL",
                                    "UsuarioCreacion": "Vespertino2",
                                    "UsuarioModificacion": "NULL",
                                    "AjusteDelTotal": "0.000000",
                                    "RowVersion": "0x0000000000060A4D",
                                    "Sucursal": "Sarita",
                                    "Costo": "2.500000",
                                    "TotalImpuestoIeps": "0.000000",
                                    "PromocionesAplicadas": "",
                                    "DescuentoPorc": "0.000000",
                                    "DescuentoMonto": "0.000000",
                                    "ComisionesAplicadas": "",
                                    "ComisionPorc": "0.000000",
                                    "ComisionMonto": "0.000000",
                                    "Notas": "",
                                    "ClienteId": "NULL"
                                },
                                {
                                    "Id": "d55a0d26-233b-4260-8285-a39676254b97",
                                    "Folio": "230204.0851GA",
                                    "Fecha": "2023-02-04 14:51:29.753",
                                    "RfcCliente": "XAXX010101000",
                                    "Lugar": "Caja2",
                                    "LugarFisico": "B8975AA77E05",
                                    "Persona": "Vespertino2",
                                    "Turno": "Completo",
                                    "Total": "10.000000",
                                    "TotalImpuesto": "1.380000",
                                    "TotalDescuento": "0.000000",
                                    "MetodoPago": "Efectivo",
                                    "FormaPago": "UNA SOLA EXHIBICION",
                                    "Subtotal": "8.620000",
                                    "NumeroDecimales": "255",
                                    "Estado": "0",
                                    "TipoRegistro": "0",
                                    "FolioTimbre": "NULL",
                                    "FechaTimbre": "NULL",
                                    "FechaCreacion": "2023-02-04 14:51:29.753",
                                    "FechaModificacion": "NULL",
                                    "FechaCancelacionCfd": "NULL",
                                    "UsuarioCreacion": "Vespertino2",
                                    "UsuarioModificacion": "NULL",
                                    "AjusteDelTotal": "0.000000",
                                    "RowVersion": "0x0000000000116B71",
                                    "Sucursal": "Sarita",
                                    "Costo": "1.000000",
                                    "TotalImpuestoIeps": "0.000000",
                                    "PromocionesAplicadas": "",
                                    "DescuentoPorc": "0.000000",
                                    "DescuentoMonto": "0.000000",
                                    "ComisionesAplicadas": "",
                                    "ComisionPorc": "0.000000",
                                    "ComisionMonto": "0.000000",
                                    "Notas": "",
                                    "ClienteId": "NULL"
                                },
                                {
                                    "Id": "9f948151-b007-46ea-941c-e386395677cf",
                                    "Folio": "230204.0852ES",
                                    "Fecha": "2023-02-04 14:52:59.787",
                                    "RfcCliente": "XAXX010101000",
                                    "Lugar": "Caja1",
                                    "LugarFisico": "B8975AA77D27",
                                    "Persona": "Matutino1",
                                    "Turno": "Completo",
                                    "Total": "13.000000",
                                    "TotalImpuesto": "0.140000",
                                    "TotalDescuento": "0.000000",
                                    "MetodoPago": "Efectivo",
                                    "FormaPago": "UNA SOLA EXHIBICION",
                                    "Subtotal": "12.860000",
                                    "NumeroDecimales": "255",
                                    "Estado": "0",
                                    "TipoRegistro": "0",
                                    "FolioTimbre": "NULL",
                                    "FechaTimbre": "NULL",
                                    "FechaCreacion": "2023-02-04 14:52:59.787",
                                    "FechaModificacion": "NULL",
                                    "FechaCancelacionCfd": "NULL",
                                    "UsuarioCreacion": "Matutino1",
                                    "UsuarioModificacion": "NULL",
                                    "AjusteDelTotal": "0.000000",
                                    "RowVersion": "0x000000000012712A",
                                    "Sucursal": "Sarita",
                                    "Costo": "10.800000",
                                    "TotalImpuestoIeps": "0.000000",
                                    "PromocionesAplicadas": "",
                                    "DescuentoPorc": "0.000000",
                                    "DescuentoMonto": "0.000000",
                                    "ComisionesAplicadas": "",
                                    "ComisionPorc": "0.000000",
                                    "ComisionMonto": "0.000000",
                                    "Notas": "",
                                    "ClienteId": "NULL"
                                }
                            ]
                        },
                        "text/html": "<table><tr><th>Id</th><th>Folio</th><th>Fecha</th><th>RfcCliente</th><th>Lugar</th><th>LugarFisico</th><th>Persona</th><th>Turno</th><th>Total</th><th>TotalImpuesto</th><th>TotalDescuento</th><th>MetodoPago</th><th>FormaPago</th><th>Subtotal</th><th>NumeroDecimales</th><th>Estado</th><th>TipoRegistro</th><th>FolioTimbre</th><th>FechaTimbre</th><th>FechaCreacion</th><th>FechaModificacion</th><th>FechaCancelacionCfd</th><th>UsuarioCreacion</th><th>UsuarioModificacion</th><th>AjusteDelTotal</th><th>RowVersion</th><th>Sucursal</th><th>Costo</th><th>TotalImpuestoIeps</th><th>PromocionesAplicadas</th><th>DescuentoPorc</th><th>DescuentoMonto</th><th>ComisionesAplicadas</th><th>ComisionPorc</th><th>ComisionMonto</th><th>Notas</th><th>ClienteId</th></tr><tr><td>87331ad0-0986-4ee3-a8f3-d699ea79d432</td><td>230204.08312A</td><td>2023-02-04 14:31:19.343</td><td>XAXX010101000</td><td>Caja1</td><td>B8975AA77D27</td><td>Matutino1</td><td>Completo</td><td>49.000000</td><td>0.000000</td><td>0.000000</td><td>Efectivo</td><td>UNA SOLA EXHIBICION</td><td>49.000000</td><td>255</td><td>0</td><td>0</td><td>NULL</td><td>NULL</td><td>2023-02-04 14:31:19.343</td><td>NULL</td><td>NULL</td><td>Matutino1</td><td>NULL</td><td>0.000000</td><td>0x000000000008F8BD</td><td>Sarita</td><td>42.000000</td><td>0.000000</td><td></td><td>0.000000</td><td>0.000000</td><td></td><td>0.000000</td><td>0.000000</td><td></td><td>NULL</td></tr><tr><td>2a7e3e35-9d84-4e75-af59-681995da06e0</td><td>230204.0839ZH</td><td>2023-02-04 14:39:56.367</td><td>XAXX010101000</td><td>Caja1</td><td>B8975AA77D27</td><td>Matutino1</td><td>Completo</td><td>7.000000</td><td>0.970000</td><td>0.000000</td><td>Efectivo</td><td>UNA SOLA EXHIBICION</td><td>6.030000</td><td>255</td><td>0</td><td>0</td><td>NULL</td><td>NULL</td><td>2023-02-04 14:39:56.367</td><td>NULL</td><td>NULL</td><td>Matutino1</td><td>NULL</td><td>0.000000</td><td>0x000000000002A8A1</td><td>Sarita</td><td>4.500000</td><td>0.000000</td><td></td><td>0.000000</td><td>0.000000</td><td></td><td>0.000000</td><td>0.000000</td><td></td><td>NULL</td></tr><tr><td>982bbee3-8f88-4fe4-b13f-f20a3cdf1872</td><td>230204.08428D</td><td>2023-02-04 14:42:08.047</td><td>XAXX010101000</td><td>Caja1</td><td>B8975AA77D27</td><td>Matutino1</td><td>Completo</td><td>24.000000</td><td>3.310000</td><td>0.000000</td><td>Efectivo</td><td>UNA SOLA EXHIBICION</td><td>20.690000</td><td>255</td><td>0</td><td>0</td><td>NULL</td><td>NULL</td><td>2023-02-04 14:42:08.047</td><td>NULL</td><td>NULL</td><td>Matutino1</td><td>NULL</td><td>0.000000</td><td>0x00000000000CC98B</td><td>Sarita</td><td>19.000000</td><td>0.000000</td><td></td><td>0.000000</td><td>0.000000</td><td></td><td>0.000000</td><td>0.000000</td><td></td><td>NULL</td></tr><tr><td>df5e5d16-3546-435a-9105-370dfb5be546</td><td>230204.0842TB</td><td>2023-02-04 14:42:20.927</td><td>XAXX010101000</td><td>Caja1</td><td>B8975AA77D27</td><td>Matutino1</td><td>Completo</td><td>15.000000</td><td>2.070000</td><td>0.000000</td><td>Efectivo</td><td>UNA SOLA EXHIBICION</td><td>12.930000</td><td>255</td><td>0</td><td>0</td><td>NULL</td><td>NULL</td><td>2023-02-04 14:42:20.927</td><td>NULL</td><td>NULL</td><td>Matutino1</td><td>NULL</td><td>0.000000</td><td>0x00000000000DB6A3</td><td>Sarita</td><td>10.000000</td><td>0.000000</td><td></td><td>0.000000</td><td>0.000000</td><td></td><td>0.000000</td><td>0.000000</td><td></td><td>NULL</td></tr><tr><td>453f7c89-4987-41bf-b44c-1f1b638db58f</td><td>230204.0845P7</td><td>2023-02-04 14:45:06.413</td><td>XAXX010101000</td><td>Caja1</td><td>B8975AA77D27</td><td>Matutino1</td><td>Completo</td><td>25.000000</td><td>0.000000</td><td>0.000000</td><td>Efectivo</td><td>UNA SOLA EXHIBICION</td><td>25.000000</td><td>255</td><td>0</td><td>0</td><td>NULL</td><td>NULL</td><td>2023-02-04 14:45:06.413</td><td>NULL</td><td>NULL</td><td>Matutino1</td><td>NULL</td><td>0.000000</td><td>0x0000000000089ED1</td><td>Sarita</td><td>21.000000</td><td>0.000000</td><td></td><td>0.000000</td><td>0.000000</td><td></td><td>0.000000</td><td>0.000000</td><td></td><td>NULL</td></tr><tr><td>aad52412-1e16-4dec-ae13-c54da80b2989</td><td>230204.0847AC</td><td>2023-02-04 14:47:20.877</td><td>XAXX010101000</td><td>Caja1</td><td>B8975AA77D27</td><td>Matutino1</td><td>Completo</td><td>22.000000</td><td>3.030000</td><td>0.000000</td><td>Efectivo</td><td>UNA SOLA EXHIBICION</td><td>18.970000</td><td>255</td><td>0</td><td>0</td><td>NULL</td><td>NULL</td><td>2023-02-04 14:47:20.877</td><td>NULL</td><td>NULL</td><td>Matutino1</td><td>NULL</td><td>0.000000</td><td>0x00000000000A82BB</td><td>Sarita</td><td>16.800000</td><td>0.000000</td><td></td><td>0.000000</td><td>0.000000</td><td></td><td>0.000000</td><td>0.000000</td><td></td><td>NULL</td></tr><tr><td>9bd84c79-6c61-4e48-9a7d-58c9a0b4f60f</td><td>230204.08493E</td><td>2023-02-04 14:49:42.343</td><td>XAXX010101000</td><td>Caja1</td><td>B8975AA77D27</td><td>Matutino1</td><td>Completo</td><td>23.500000</td><td>3.240000</td><td>0.000000</td><td>Efectivo</td><td>UNA SOLA EXHIBICION</td><td>20.260000</td><td>255</td><td>0</td><td>0</td><td>NULL</td><td>NULL</td><td>2023-02-04 14:49:42.343</td><td>NULL</td><td>NULL</td><td>Matutino1</td><td>NULL</td><td>0.000000</td><td>0x00000000000A8FCB</td><td>Sarita</td><td>20.000000</td><td>0.000000</td><td></td><td>0.000000</td><td>0.000000</td><td></td><td>0.000000</td><td>0.000000</td><td></td><td>NULL</td></tr><tr><td>2f162e6b-ab9e-4d25-9809-da29b6c86cff</td><td>230204.0851XD</td><td>2023-02-04 14:51:06.527</td><td>XAXX010101000</td><td>Caja2</td><td>B8975AA77E05</td><td>Vespertino2</td><td>Completo</td><td>25.000000</td><td>3.450000</td><td>0.000000</td><td>Efectivo</td><td>UNA SOLA EXHIBICION</td><td>21.550000</td><td>255</td><td>0</td><td>0</td><td>NULL</td><td>NULL</td><td>2023-02-04 14:51:06.527</td><td>NULL</td><td>NULL</td><td>Vespertino2</td><td>NULL</td><td>0.000000</td><td>0x0000000000060A4D</td><td>Sarita</td><td>2.500000</td><td>0.000000</td><td></td><td>0.000000</td><td>0.000000</td><td></td><td>0.000000</td><td>0.000000</td><td></td><td>NULL</td></tr><tr><td>d55a0d26-233b-4260-8285-a39676254b97</td><td>230204.0851GA</td><td>2023-02-04 14:51:29.753</td><td>XAXX010101000</td><td>Caja2</td><td>B8975AA77E05</td><td>Vespertino2</td><td>Completo</td><td>10.000000</td><td>1.380000</td><td>0.000000</td><td>Efectivo</td><td>UNA SOLA EXHIBICION</td><td>8.620000</td><td>255</td><td>0</td><td>0</td><td>NULL</td><td>NULL</td><td>2023-02-04 14:51:29.753</td><td>NULL</td><td>NULL</td><td>Vespertino2</td><td>NULL</td><td>0.000000</td><td>0x0000000000116B71</td><td>Sarita</td><td>1.000000</td><td>0.000000</td><td></td><td>0.000000</td><td>0.000000</td><td></td><td>0.000000</td><td>0.000000</td><td></td><td>NULL</td></tr><tr><td>9f948151-b007-46ea-941c-e386395677cf</td><td>230204.0852ES</td><td>2023-02-04 14:52:59.787</td><td>XAXX010101000</td><td>Caja1</td><td>B8975AA77D27</td><td>Matutino1</td><td>Completo</td><td>13.000000</td><td>0.140000</td><td>0.000000</td><td>Efectivo</td><td>UNA SOLA EXHIBICION</td><td>12.860000</td><td>255</td><td>0</td><td>0</td><td>NULL</td><td>NULL</td><td>2023-02-04 14:52:59.787</td><td>NULL</td><td>NULL</td><td>Matutino1</td><td>NULL</td><td>0.000000</td><td>0x000000000012712A</td><td>Sarita</td><td>10.800000</td><td>0.000000</td><td></td><td>0.000000</td><td>0.000000</td><td></td><td>0.000000</td><td>0.000000</td><td></td><td>NULL</td></tr></table>"
                    },
                    "metadata": {}
                }
            ],
            "execution_count": 2
        },
        {
            "cell_type": "code",
            "source": [
                "select top 10 * from LineaVentas\r\n",
                ""
            ],
            "metadata": {
                "azdata_cell_guid": "07fd4a48-4603-4cb1-8bea-499e12790fb8",
                "language": "sql"
            },
            "outputs": [
                {
                    "output_type": "display_data",
                    "data": {
                        "text/html": "(10 rows affected)"
                    },
                    "metadata": {}
                },
                {
                    "output_type": "display_data",
                    "data": {
                        "text/html": "Total execution time: 00:00:00.107"
                    },
                    "metadata": {}
                },
                {
                    "output_type": "execute_result",
                    "execution_count": 4,
                    "data": {
                        "application/vnd.dataresource+json": {
                            "schema": {
                                "fields": [
                                    {
                                        "name": "VentaId"
                                    },
                                    {
                                        "name": "Numero"
                                    },
                                    {
                                        "name": "Cantidad"
                                    },
                                    {
                                        "name": "Unidad"
                                    },
                                    {
                                        "name": "CodigoArticulo"
                                    },
                                    {
                                        "name": "NombreArticulo"
                                    },
                                    {
                                        "name": "Precio"
                                    },
                                    {
                                        "name": "PrecioSinImpuesto"
                                    },
                                    {
                                        "name": "Impuesto"
                                    },
                                    {
                                        "name": "TotalImpuesto"
                                    },
                                    {
                                        "name": "NumeroPrecio"
                                    },
                                    {
                                        "name": "MontoDescuento"
                                    },
                                    {
                                        "name": "Importe"
                                    },
                                    {
                                        "name": "ImporteSinImpuesto"
                                    },
                                    {
                                        "name": "ArticuloId"
                                    },
                                    {
                                        "name": "Almacen"
                                    },
                                    {
                                        "name": "Costo"
                                    },
                                    {
                                        "name": "PromocionesAplicadas"
                                    },
                                    {
                                        "name": "ImpuestoIeps"
                                    },
                                    {
                                        "name": "TotalImpuestoIeps"
                                    },
                                    {
                                        "name": "DescuentoPorc"
                                    },
                                    {
                                        "name": "DescuentoMonto"
                                    }
                                ]
                            },
                            "data": [
                                {
                                    "VentaId": "00001e1d-66e4-4773-9232-1315c90f4c59",
                                    "Numero": "1",
                                    "Cantidad": "1.000000",
                                    "Unidad": "Pieza",
                                    "CodigoArticulo": "7501055328345",
                                    "NombreArticulo": "COCA  0.400 LT",
                                    "Precio": "9.999999",
                                    "PrecioSinImpuesto": "8.62",
                                    "Impuesto": "16.000000",
                                    "TotalImpuesto": "1.380000",
                                    "NumeroPrecio": "1",
                                    "MontoDescuento": "0.000000",
                                    "Importe": "10.00",
                                    "ImporteSinImpuesto": "8.62",
                                    "ArticuloId": "fc07ec44-535b-4e69-9b75-099d95da4a14",
                                    "Almacen": "Xicohtencatl",
                                    "Costo": "8.500000",
                                    "PromocionesAplicadas": "",
                                    "ImpuestoIeps": "0.000000",
                                    "TotalImpuestoIeps": "0.000000",
                                    "DescuentoPorc": "0.000000",
                                    "DescuentoMonto": "0.000000"
                                },
                                {
                                    "VentaId": "000025c9-c68e-4ff8-aae2-5ac26489a0ee",
                                    "Numero": "1",
                                    "Cantidad": "1.000000",
                                    "Unidad": "Pieza",
                                    "CodigoArticulo": "75002275",
                                    "NombreArticulo": "CHOCO ROLES PIÑA",
                                    "Precio": "15.999999",
                                    "PrecioSinImpuesto": "13.79",
                                    "Impuesto": "16.000000",
                                    "TotalImpuesto": "2.210000",
                                    "NumeroPrecio": "1",
                                    "MontoDescuento": "0.000000",
                                    "Importe": "16.00",
                                    "ImporteSinImpuesto": "13.79",
                                    "ArticuloId": "2562931f-4a93-472e-ab16-143d2034e17e",
                                    "Almacen": "Xicohtencatl",
                                    "Costo": "11.330000",
                                    "PromocionesAplicadas": "",
                                    "ImpuestoIeps": "0.000000",
                                    "TotalImpuestoIeps": "0.000000",
                                    "DescuentoPorc": "0.000000",
                                    "DescuentoMonto": "0.000000"
                                },
                                {
                                    "VentaId": "000025c9-c68e-4ff8-aae2-5ac26489a0ee",
                                    "Numero": "2",
                                    "Cantidad": "1.000000",
                                    "Unidad": "Pieza",
                                    "CodigoArticulo": "7501073833722",
                                    "NombreArticulo": "SCHWEPPES GINGER 0.600 LT.",
                                    "Precio": "12.999999",
                                    "PrecioSinImpuesto": "11.21",
                                    "Impuesto": "16.000000",
                                    "TotalImpuesto": "1.790000",
                                    "NumeroPrecio": "1",
                                    "MontoDescuento": "0.000000",
                                    "Importe": "13.00",
                                    "ImporteSinImpuesto": "11.21",
                                    "ArticuloId": "74a1c6be-165a-4d3e-bace-b733e2e7ea25",
                                    "Almacen": "Xicohtencatl",
                                    "Costo": "9.200000",
                                    "PromocionesAplicadas": "",
                                    "ImpuestoIeps": "0.000000",
                                    "TotalImpuestoIeps": "0.000000",
                                    "DescuentoPorc": "0.000000",
                                    "DescuentoMonto": "0.000000"
                                },
                                {
                                    "VentaId": "000025c9-c68e-4ff8-aae2-5ac26489a0ee",
                                    "Numero": "3",
                                    "Cantidad": "1.000000",
                                    "Unidad": "Pieza",
                                    "CodigoArticulo": "7501055320639",
                                    "NombreArticulo": "COCA SIN AZUCAR 0.600 LT",
                                    "Precio": "13.000000",
                                    "PrecioSinImpuesto": "13.00",
                                    "Impuesto": "0.000000",
                                    "TotalImpuesto": "0.000000",
                                    "NumeroPrecio": "1",
                                    "MontoDescuento": "0.000000",
                                    "Importe": "13.00",
                                    "ImporteSinImpuesto": "13.00",
                                    "ArticuloId": "e16bf6c7-332b-4e97-9511-196fcb6cea29",
                                    "Almacen": "Xicohtencatl",
                                    "Costo": "12.000000",
                                    "PromocionesAplicadas": "",
                                    "ImpuestoIeps": "0.000000",
                                    "TotalImpuestoIeps": "0.000000",
                                    "DescuentoPorc": "0.000000",
                                    "DescuentoMonto": "0.000000"
                                },
                                {
                                    "VentaId": "00003415-8524-40c4-a99b-a52d6f1e7340",
                                    "Numero": "1",
                                    "Cantidad": "1.000000",
                                    "Unidad": "Pieza",
                                    "CodigoArticulo": "032239052017",
                                    "NombreArticulo": "GENEROSA 0.413 LT DURAZNO",
                                    "Precio": "11.999999",
                                    "PrecioSinImpuesto": "10.34",
                                    "Impuesto": "16.000000",
                                    "TotalImpuesto": "1.660000",
                                    "NumeroPrecio": "1",
                                    "MontoDescuento": "0.000000",
                                    "Importe": "12.00",
                                    "ImporteSinImpuesto": "10.34",
                                    "ArticuloId": "a8ba2479-63e5-497d-8c47-1b64fffd0432",
                                    "Almacen": "Xicohtencatl",
                                    "Costo": "9.000000",
                                    "PromocionesAplicadas": "",
                                    "ImpuestoIeps": "0.000000",
                                    "TotalImpuestoIeps": "0.000000",
                                    "DescuentoPorc": "0.000000",
                                    "DescuentoMonto": "0.000000"
                                },
                                {
                                    "VentaId": "00003415-8524-40c4-a99b-a52d6f1e7340",
                                    "Numero": "2",
                                    "Cantidad": "1.000000",
                                    "Unidad": "Pieza",
                                    "CodigoArticulo": "75001339",
                                    "NombreArticulo": "MARLBORO 14 ROJOS",
                                    "Precio": "39.999999",
                                    "PrecioSinImpuesto": "34.48",
                                    "Impuesto": "16.000000",
                                    "TotalImpuesto": "5.520000",
                                    "NumeroPrecio": "1",
                                    "MontoDescuento": "0.000000",
                                    "Importe": "40.00",
                                    "ImporteSinImpuesto": "34.48",
                                    "ArticuloId": "a3c53474-fb25-4ae7-ad54-042a1b3e6840",
                                    "Almacen": "Xicohtencatl",
                                    "Costo": "33.000000",
                                    "PromocionesAplicadas": "",
                                    "ImpuestoIeps": "0.000000",
                                    "TotalImpuestoIeps": "0.000000",
                                    "DescuentoPorc": "0.000000",
                                    "DescuentoMonto": "0.000000"
                                },
                                {
                                    "VentaId": "00003415-8524-40c4-a99b-a52d6f1e7340",
                                    "Numero": "3",
                                    "Cantidad": "1.000000",
                                    "Unidad": "Pieza",
                                    "CodigoArticulo": "A3",
                                    "NombreArticulo": "AUM $ 3.00",
                                    "Precio": "2.999999",
                                    "PrecioSinImpuesto": "2.59",
                                    "Impuesto": "16.000000",
                                    "TotalImpuesto": "0.410000",
                                    "NumeroPrecio": "1",
                                    "MontoDescuento": "0.000000",
                                    "Importe": "3.00",
                                    "ImporteSinImpuesto": "2.59",
                                    "ArticuloId": "f0670550-d372-45ae-bb7e-8442dba79597",
                                    "Almacen": "Xicohtencatl",
                                    "Costo": "3.000000",
                                    "PromocionesAplicadas": "",
                                    "ImpuestoIeps": "0.000000",
                                    "TotalImpuestoIeps": "0.000000",
                                    "DescuentoPorc": "0.000000",
                                    "DescuentoMonto": "0.000000"
                                },
                                {
                                    "VentaId": "000092cb-ccda-4df1-834a-4d7583e1b6a2",
                                    "Numero": "1",
                                    "Cantidad": "1.000000",
                                    "Unidad": "Pieza",
                                    "CodigoArticulo": "7501055341344",
                                    "NombreArticulo": "COCA  0.355 LT",
                                    "Precio": "8.500000",
                                    "PrecioSinImpuesto": "8.50",
                                    "Impuesto": "0.000000",
                                    "TotalImpuesto": "0.000000",
                                    "NumeroPrecio": "1",
                                    "MontoDescuento": "0.000000",
                                    "Importe": "8.50",
                                    "ImporteSinImpuesto": "8.50",
                                    "ArticuloId": "0216bb30-8f8a-4a79-bb05-5d43613b1aa5",
                                    "Almacen": "Xicohtencatl",
                                    "Costo": "6.910000",
                                    "PromocionesAplicadas": "",
                                    "ImpuestoIeps": "0.000000",
                                    "TotalImpuestoIeps": "0.000000",
                                    "DescuentoPorc": "0.000000",
                                    "DescuentoMonto": "0.000000"
                                },
                                {
                                    "VentaId": "000092cb-ccda-4df1-834a-4d7583e1b6a2",
                                    "Numero": "2",
                                    "Cantidad": "1.000000",
                                    "Unidad": "Pieza",
                                    "CodigoArticulo": "7506192506854",
                                    "NombreArticulo": "VIVE 100% 300 ML",
                                    "Precio": "10.500000",
                                    "PrecioSinImpuesto": "9.05",
                                    "Impuesto": "16.000000",
                                    "TotalImpuesto": "1.450000",
                                    "NumeroPrecio": "1",
                                    "MontoDescuento": "0.000000",
                                    "Importe": "10.50",
                                    "ImporteSinImpuesto": "9.05",
                                    "ArticuloId": "d9cc2a09-e2ea-459c-9366-f3a37835a732",
                                    "Almacen": "Xicohtencatl",
                                    "Costo": "8.000000",
                                    "PromocionesAplicadas": "",
                                    "ImpuestoIeps": "0.000000",
                                    "TotalImpuestoIeps": "0.000000",
                                    "DescuentoPorc": "0.000000",
                                    "DescuentoMonto": "0.000000"
                                },
                                {
                                    "VentaId": "0000943b-ba71-4c1b-9bc6-55ab4055b719",
                                    "Numero": "1",
                                    "Cantidad": "2.000000",
                                    "Unidad": "Pieza",
                                    "CodigoArticulo": "7501441610214",
                                    "NombreArticulo": "JARRITO 0.600 LT TAMARINDO",
                                    "Precio": "9.500000",
                                    "PrecioSinImpuesto": "8.19",
                                    "Impuesto": "16.000000",
                                    "TotalImpuesto": "2.620000",
                                    "NumeroPrecio": "1",
                                    "MontoDescuento": "0.000000",
                                    "Importe": "19.00",
                                    "ImporteSinImpuesto": "16.38",
                                    "ArticuloId": "12ec2b49-d5eb-44fd-a2e3-90606a1a731b",
                                    "Almacen": "Xicohtencatl",
                                    "Costo": "8.000000",
                                    "PromocionesAplicadas": "NULL",
                                    "ImpuestoIeps": "0.000000",
                                    "TotalImpuestoIeps": "0.000000",
                                    "DescuentoPorc": "0.000000",
                                    "DescuentoMonto": "0.000000"
                                }
                            ]
                        },
                        "text/html": "<table><tr><th>VentaId</th><th>Numero</th><th>Cantidad</th><th>Unidad</th><th>CodigoArticulo</th><th>NombreArticulo</th><th>Precio</th><th>PrecioSinImpuesto</th><th>Impuesto</th><th>TotalImpuesto</th><th>NumeroPrecio</th><th>MontoDescuento</th><th>Importe</th><th>ImporteSinImpuesto</th><th>ArticuloId</th><th>Almacen</th><th>Costo</th><th>PromocionesAplicadas</th><th>ImpuestoIeps</th><th>TotalImpuestoIeps</th><th>DescuentoPorc</th><th>DescuentoMonto</th></tr><tr><td>00001e1d-66e4-4773-9232-1315c90f4c59</td><td>1</td><td>1.000000</td><td>Pieza</td><td>7501055328345</td><td>COCA  0.400 LT</td><td>9.999999</td><td>8.62</td><td>16.000000</td><td>1.380000</td><td>1</td><td>0.000000</td><td>10.00</td><td>8.62</td><td>fc07ec44-535b-4e69-9b75-099d95da4a14</td><td>Xicohtencatl</td><td>8.500000</td><td></td><td>0.000000</td><td>0.000000</td><td>0.000000</td><td>0.000000</td></tr><tr><td>000025c9-c68e-4ff8-aae2-5ac26489a0ee</td><td>1</td><td>1.000000</td><td>Pieza</td><td>75002275</td><td>CHOCO ROLES PIÑA</td><td>15.999999</td><td>13.79</td><td>16.000000</td><td>2.210000</td><td>1</td><td>0.000000</td><td>16.00</td><td>13.79</td><td>2562931f-4a93-472e-ab16-143d2034e17e</td><td>Xicohtencatl</td><td>11.330000</td><td></td><td>0.000000</td><td>0.000000</td><td>0.000000</td><td>0.000000</td></tr><tr><td>000025c9-c68e-4ff8-aae2-5ac26489a0ee</td><td>2</td><td>1.000000</td><td>Pieza</td><td>7501073833722</td><td>SCHWEPPES GINGER 0.600 LT.</td><td>12.999999</td><td>11.21</td><td>16.000000</td><td>1.790000</td><td>1</td><td>0.000000</td><td>13.00</td><td>11.21</td><td>74a1c6be-165a-4d3e-bace-b733e2e7ea25</td><td>Xicohtencatl</td><td>9.200000</td><td></td><td>0.000000</td><td>0.000000</td><td>0.000000</td><td>0.000000</td></tr><tr><td>000025c9-c68e-4ff8-aae2-5ac26489a0ee</td><td>3</td><td>1.000000</td><td>Pieza</td><td>7501055320639</td><td>COCA SIN AZUCAR 0.600 LT</td><td>13.000000</td><td>13.00</td><td>0.000000</td><td>0.000000</td><td>1</td><td>0.000000</td><td>13.00</td><td>13.00</td><td>e16bf6c7-332b-4e97-9511-196fcb6cea29</td><td>Xicohtencatl</td><td>12.000000</td><td></td><td>0.000000</td><td>0.000000</td><td>0.000000</td><td>0.000000</td></tr><tr><td>00003415-8524-40c4-a99b-a52d6f1e7340</td><td>1</td><td>1.000000</td><td>Pieza</td><td>032239052017</td><td>GENEROSA 0.413 LT DURAZNO</td><td>11.999999</td><td>10.34</td><td>16.000000</td><td>1.660000</td><td>1</td><td>0.000000</td><td>12.00</td><td>10.34</td><td>a8ba2479-63e5-497d-8c47-1b64fffd0432</td><td>Xicohtencatl</td><td>9.000000</td><td></td><td>0.000000</td><td>0.000000</td><td>0.000000</td><td>0.000000</td></tr><tr><td>00003415-8524-40c4-a99b-a52d6f1e7340</td><td>2</td><td>1.000000</td><td>Pieza</td><td>75001339</td><td>MARLBORO 14 ROJOS</td><td>39.999999</td><td>34.48</td><td>16.000000</td><td>5.520000</td><td>1</td><td>0.000000</td><td>40.00</td><td>34.48</td><td>a3c53474-fb25-4ae7-ad54-042a1b3e6840</td><td>Xicohtencatl</td><td>33.000000</td><td></td><td>0.000000</td><td>0.000000</td><td>0.000000</td><td>0.000000</td></tr><tr><td>00003415-8524-40c4-a99b-a52d6f1e7340</td><td>3</td><td>1.000000</td><td>Pieza</td><td>A3</td><td>AUM $ 3.00</td><td>2.999999</td><td>2.59</td><td>16.000000</td><td>0.410000</td><td>1</td><td>0.000000</td><td>3.00</td><td>2.59</td><td>f0670550-d372-45ae-bb7e-8442dba79597</td><td>Xicohtencatl</td><td>3.000000</td><td></td><td>0.000000</td><td>0.000000</td><td>0.000000</td><td>0.000000</td></tr><tr><td>000092cb-ccda-4df1-834a-4d7583e1b6a2</td><td>1</td><td>1.000000</td><td>Pieza</td><td>7501055341344</td><td>COCA  0.355 LT</td><td>8.500000</td><td>8.50</td><td>0.000000</td><td>0.000000</td><td>1</td><td>0.000000</td><td>8.50</td><td>8.50</td><td>0216bb30-8f8a-4a79-bb05-5d43613b1aa5</td><td>Xicohtencatl</td><td>6.910000</td><td></td><td>0.000000</td><td>0.000000</td><td>0.000000</td><td>0.000000</td></tr><tr><td>000092cb-ccda-4df1-834a-4d7583e1b6a2</td><td>2</td><td>1.000000</td><td>Pieza</td><td>7506192506854</td><td>VIVE 100% 300 ML</td><td>10.500000</td><td>9.05</td><td>16.000000</td><td>1.450000</td><td>1</td><td>0.000000</td><td>10.50</td><td>9.05</td><td>d9cc2a09-e2ea-459c-9366-f3a37835a732</td><td>Xicohtencatl</td><td>8.000000</td><td></td><td>0.000000</td><td>0.000000</td><td>0.000000</td><td>0.000000</td></tr><tr><td>0000943b-ba71-4c1b-9bc6-55ab4055b719</td><td>1</td><td>2.000000</td><td>Pieza</td><td>7501441610214</td><td>JARRITO 0.600 LT TAMARINDO</td><td>9.500000</td><td>8.19</td><td>16.000000</td><td>2.620000</td><td>1</td><td>0.000000</td><td>19.00</td><td>16.38</td><td>12ec2b49-d5eb-44fd-a2e3-90606a1a731b</td><td>Xicohtencatl</td><td>8.000000</td><td>NULL</td><td>0.000000</td><td>0.000000</td><td>0.000000</td><td>0.000000</td></tr></table>"
                    },
                    "metadata": {}
                }
            ],
            "execution_count": 4
        },
        {
            "cell_type": "code",
            "source": [
                "SELECT top 10 * from Articulos"
            ],
            "metadata": {
                "azdata_cell_guid": "84ea0ff7-187a-4e7e-9cf6-5fa863298d72",
                "language": "sql"
            },
            "outputs": [
                {
                    "output_type": "display_data",
                    "data": {
                        "text/html": "(10 rows affected)"
                    },
                    "metadata": {}
                },
                {
                    "output_type": "display_data",
                    "data": {
                        "text/html": "Total execution time: 00:00:00.108"
                    },
                    "metadata": {}
                },
                {
                    "output_type": "execute_result",
                    "execution_count": 7,
                    "data": {
                        "application/vnd.dataresource+json": {
                            "schema": {
                                "fields": [
                                    {
                                        "name": "Id"
                                    },
                                    {
                                        "name": "Codigo1"
                                    },
                                    {
                                        "name": "Codigo2"
                                    },
                                    {
                                        "name": "Categoria1"
                                    },
                                    {
                                        "name": "Categoria2"
                                    },
                                    {
                                        "name": "Categoria3"
                                    },
                                    {
                                        "name": "Nombre"
                                    },
                                    {
                                        "name": "Descripcion"
                                    },
                                    {
                                        "name": "Unidad"
                                    },
                                    {
                                        "name": "Unidad2"
                                    },
                                    {
                                        "name": "EquivalenciaUnidad2"
                                    },
                                    {
                                        "name": "Unidad3"
                                    },
                                    {
                                        "name": "EquivalenciaUnidad3"
                                    },
                                    {
                                        "name": "Iva"
                                    },
                                    {
                                        "name": "PrecioCompra"
                                    },
                                    {
                                        "name": "PrecioVenta1"
                                    },
                                    {
                                        "name": "PrecioVenta2"
                                    },
                                    {
                                        "name": "PrecioVenta3"
                                    },
                                    {
                                        "name": "PrecioVenta4"
                                    },
                                    {
                                        "name": "UnidadesMinimasPrecioVenta1"
                                    },
                                    {
                                        "name": "UnidadesMinimasPrecioVenta2"
                                    },
                                    {
                                        "name": "UnidadesMinimasPrecioVenta3"
                                    },
                                    {
                                        "name": "UnidadesMinimasPrecioVenta4"
                                    },
                                    {
                                        "name": "FechaActualizacion"
                                    },
                                    {
                                        "name": "InfoPaquete"
                                    },
                                    {
                                        "name": "Eliminado"
                                    },
                                    {
                                        "name": "RowVersion"
                                    },
                                    {
                                        "name": "PrecioVenta5"
                                    },
                                    {
                                        "name": "PrecioVenta6"
                                    },
                                    {
                                        "name": "PrecioVenta7"
                                    },
                                    {
                                        "name": "PrecioVenta8"
                                    },
                                    {
                                        "name": "PrecioVenta9"
                                    },
                                    {
                                        "name": "UnidadesMinimasPrecioVenta5"
                                    },
                                    {
                                        "name": "UnidadesMinimasPrecioVenta6"
                                    },
                                    {
                                        "name": "UnidadesMinimasPrecioVenta7"
                                    },
                                    {
                                        "name": "UnidadesMinimasPrecioVenta8"
                                    },
                                    {
                                        "name": "UnidadesMinimasPrecioVenta9"
                                    },
                                    {
                                        "name": "Promociones"
                                    },
                                    {
                                        "name": "Ieps"
                                    },
                                    {
                                        "name": "OtrosCodigos"
                                    },
                                    {
                                        "name": "StockMinino"
                                    },
                                    {
                                        "name": "Descuento1"
                                    },
                                    {
                                        "name": "Descuento2"
                                    },
                                    {
                                        "name": "Descuento3"
                                    },
                                    {
                                        "name": "Descuento4"
                                    },
                                    {
                                        "name": "Porc1"
                                    },
                                    {
                                        "name": "Porc2"
                                    },
                                    {
                                        "name": "Porc3"
                                    },
                                    {
                                        "name": "Porc4"
                                    },
                                    {
                                        "name": "Porc5"
                                    },
                                    {
                                        "name": "Porc6"
                                    },
                                    {
                                        "name": "Porc7"
                                    },
                                    {
                                        "name": "Porc8"
                                    },
                                    {
                                        "name": "Porc9"
                                    }
                                ]
                            },
                            "data": [
                                {
                                    "Id": "000190a9-6def-4890-8dbb-d8f457b0a062",
                                    "Codigo1": "7506309839219",
                                    "Codigo2": "",
                                    "Categoria1": "HIGIENE",
                                    "Categoria2": "DESODORANTE",
                                    "Categoria3": "",
                                    "Nombre": "OLD SPICE BARRA  50 GR HAWKRIDGE",
                                    "Descripcion": "NULL",
                                    "Unidad": "Pieza",
                                    "Unidad2": "",
                                    "EquivalenciaUnidad2": "0.000000",
                                    "Unidad3": "",
                                    "EquivalenciaUnidad3": "0.000000",
                                    "Iva": "16.000000",
                                    "PrecioCompra": "35.900000",
                                    "PrecioVenta1": "41.000000",
                                    "PrecioVenta2": "0.000000",
                                    "PrecioVenta3": "0.000000",
                                    "PrecioVenta4": "0.000000",
                                    "UnidadesMinimasPrecioVenta1": "0.000000",
                                    "UnidadesMinimasPrecioVenta2": "0.000000",
                                    "UnidadesMinimasPrecioVenta3": "0.000000",
                                    "UnidadesMinimasPrecioVenta4": "0.000000",
                                    "FechaActualizacion": "2023-02-09 19:24:08.893",
                                    "InfoPaquete": "",
                                    "Eliminado": "0",
                                    "RowVersion": "0x000000000000086A",
                                    "PrecioVenta5": "0.000000",
                                    "PrecioVenta6": "0.000000",
                                    "PrecioVenta7": "0.000000",
                                    "PrecioVenta8": "0.000000",
                                    "PrecioVenta9": "0.000000",
                                    "UnidadesMinimasPrecioVenta5": "0.000000",
                                    "UnidadesMinimasPrecioVenta6": "0.000000",
                                    "UnidadesMinimasPrecioVenta7": "0.000000",
                                    "UnidadesMinimasPrecioVenta8": "0.00",
                                    "UnidadesMinimasPrecioVenta9": "0.000000",
                                    "Promociones": "NULL",
                                    "Ieps": "0.000000",
                                    "OtrosCodigos": "NULL",
                                    "StockMinino": "0.000000",
                                    "Descuento1": "0.000000",
                                    "Descuento2": "0.000000",
                                    "Descuento3": "0.000000",
                                    "Descuento4": "0.000000",
                                    "Porc1": "0.000000",
                                    "Porc2": "0.000000",
                                    "Porc3": "0.000000",
                                    "Porc4": "0.000000",
                                    "Porc5": "0.000000",
                                    "Porc6": "0.000000",
                                    "Porc7": "0.000000",
                                    "Porc8": "0.000000",
                                    "Porc9": "0.000000"
                                },
                                {
                                    "Id": "0003c6a3-519f-4569-8046-a0f66e18bfcb",
                                    "Codigo1": "JUIZ15",
                                    "Codigo2": "",
                                    "Categoria1": "BONAFONT",
                                    "Categoria2": "",
                                    "Categoria3": "",
                                    "Nombre": "JUIZZY TODOS LOS SABORES 1.500 LT ",
                                    "Descripcion": "NULL",
                                    "Unidad": "Pieza",
                                    "Unidad2": "",
                                    "EquivalenciaUnidad2": "0.000000",
                                    "Unidad3": "",
                                    "EquivalenciaUnidad3": "0.000000",
                                    "Iva": "0.000000",
                                    "PrecioCompra": "15.000000",
                                    "PrecioVenta1": "17.000000",
                                    "PrecioVenta2": "0.000000",
                                    "PrecioVenta3": "0.000000",
                                    "PrecioVenta4": "0.000000",
                                    "UnidadesMinimasPrecioVenta1": "0.000000",
                                    "UnidadesMinimasPrecioVenta2": "0.000000",
                                    "UnidadesMinimasPrecioVenta3": "0.000000",
                                    "UnidadesMinimasPrecioVenta4": "0.000000",
                                    "FechaActualizacion": "2022-07-26 16:13:19.693",
                                    "InfoPaquete": "",
                                    "Eliminado": "0",
                                    "RowVersion": "0x000000000000086B",
                                    "PrecioVenta5": "0.000000",
                                    "PrecioVenta6": "0.000000",
                                    "PrecioVenta7": "0.000000",
                                    "PrecioVenta8": "0.000000",
                                    "PrecioVenta9": "0.000000",
                                    "UnidadesMinimasPrecioVenta5": "0.000000",
                                    "UnidadesMinimasPrecioVenta6": "0.000000",
                                    "UnidadesMinimasPrecioVenta7": "0.000000",
                                    "UnidadesMinimasPrecioVenta8": "0.00",
                                    "UnidadesMinimasPrecioVenta9": "0.000000",
                                    "Promociones": "NULL",
                                    "Ieps": "0.000000",
                                    "OtrosCodigos": "NULL",
                                    "StockMinino": "0.000000",
                                    "Descuento1": "0.000000",
                                    "Descuento2": "0.000000",
                                    "Descuento3": "0.000000",
                                    "Descuento4": "0.000000",
                                    "Porc1": "0.000000",
                                    "Porc2": "0.000000",
                                    "Porc3": "0.000000",
                                    "Porc4": "0.000000",
                                    "Porc5": "0.000000",
                                    "Porc6": "0.000000",
                                    "Porc7": "0.000000",
                                    "Porc8": "0.000000",
                                    "Porc9": "0.000000"
                                },
                                {
                                    "Id": "0006814c-d2ad-4e01-b27b-46093ce9ce3a",
                                    "Codigo1": "MANGUSANO",
                                    "Codigo2": "",
                                    "Categoria1": "DGRANEL",
                                    "Categoria2": "",
                                    "Categoria3": "",
                                    "Nombre": "GOMA 1.000 KG MANGUSANO ",
                                    "Descripcion": "NULL",
                                    "Unidad": "Kilogramo",
                                    "Unidad2": "",
                                    "EquivalenciaUnidad2": "0.000000",
                                    "Unidad3": "",
                                    "EquivalenciaUnidad3": "0.000000",
                                    "Iva": "0.000000",
                                    "PrecioCompra": "75.000000",
                                    "PrecioVenta1": "140.000000",
                                    "PrecioVenta2": "0.000000",
                                    "PrecioVenta3": "0.000000",
                                    "PrecioVenta4": "0.000000",
                                    "UnidadesMinimasPrecioVenta1": "0.010000",
                                    "UnidadesMinimasPrecioVenta2": "0.000000",
                                    "UnidadesMinimasPrecioVenta3": "0.000000",
                                    "UnidadesMinimasPrecioVenta4": "0.000000",
                                    "FechaActualizacion": "2022-07-15 01:48:59.360",
                                    "InfoPaquete": "",
                                    "Eliminado": "0",
                                    "RowVersion": "0x000000000000086C",
                                    "PrecioVenta5": "0.000000",
                                    "PrecioVenta6": "0.000000",
                                    "PrecioVenta7": "0.000000",
                                    "PrecioVenta8": "0.000000",
                                    "PrecioVenta9": "0.000000",
                                    "UnidadesMinimasPrecioVenta5": "0.000000",
                                    "UnidadesMinimasPrecioVenta6": "0.000000",
                                    "UnidadesMinimasPrecioVenta7": "0.000000",
                                    "UnidadesMinimasPrecioVenta8": "0.00",
                                    "UnidadesMinimasPrecioVenta9": "0.000000",
                                    "Promociones": "NULL",
                                    "Ieps": "0.000000",
                                    "OtrosCodigos": "NULL",
                                    "StockMinino": "0.000000",
                                    "Descuento1": "0.000000",
                                    "Descuento2": "0.000000",
                                    "Descuento3": "0.000000",
                                    "Descuento4": "0.000000",
                                    "Porc1": "0.000000",
                                    "Porc2": "0.000000",
                                    "Porc3": "0.000000",
                                    "Porc4": "0.000000",
                                    "Porc5": "0.000000",
                                    "Porc6": "0.000000",
                                    "Porc7": "0.000000",
                                    "Porc8": "0.000000",
                                    "Porc9": "0.000000"
                                },
                                {
                                    "Id": "000c2501-a71b-4d6a-b222-6bbbef349376",
                                    "Codigo1": "MGAPREP",
                                    "Codigo2": "",
                                    "Categoria1": "PAPELERIA",
                                    "Categoria2": "",
                                    "Categoria3": "",
                                    "Nombre": "MONOGRAFIA APARATO REPRODUCTOR",
                                    "Descripcion": "NULL",
                                    "Unidad": "Pieza",
                                    "Unidad2": "",
                                    "EquivalenciaUnidad2": "0.000000",
                                    "Unidad3": "",
                                    "EquivalenciaUnidad3": "0.000000",
                                    "Iva": "16.000000",
                                    "PrecioCompra": "1.000000",
                                    "PrecioVenta1": "2.000000",
                                    "PrecioVenta2": "0.000000",
                                    "PrecioVenta3": "0.000000",
                                    "PrecioVenta4": "0.000000",
                                    "UnidadesMinimasPrecioVenta1": "0.000000",
                                    "UnidadesMinimasPrecioVenta2": "0.000000",
                                    "UnidadesMinimasPrecioVenta3": "0.000000",
                                    "UnidadesMinimasPrecioVenta4": "0.000000",
                                    "FechaActualizacion": "2021-10-16 01:49:07.097",
                                    "InfoPaquete": "",
                                    "Eliminado": "1",
                                    "RowVersion": "0x000000000000086D",
                                    "PrecioVenta5": "0.000000",
                                    "PrecioVenta6": "0.000000",
                                    "PrecioVenta7": "0.000000",
                                    "PrecioVenta8": "0.000000",
                                    "PrecioVenta9": "0.000000",
                                    "UnidadesMinimasPrecioVenta5": "0.000000",
                                    "UnidadesMinimasPrecioVenta6": "0.000000",
                                    "UnidadesMinimasPrecioVenta7": "0.000000",
                                    "UnidadesMinimasPrecioVenta8": "0.00",
                                    "UnidadesMinimasPrecioVenta9": "0.000000",
                                    "Promociones": "NULL",
                                    "Ieps": "0.000000",
                                    "OtrosCodigos": "NULL",
                                    "StockMinino": "0.000000",
                                    "Descuento1": "0.000000",
                                    "Descuento2": "0.000000",
                                    "Descuento3": "0.000000",
                                    "Descuento4": "0.000000",
                                    "Porc1": "0.000000",
                                    "Porc2": "0.000000",
                                    "Porc3": "0.000000",
                                    "Porc4": "0.000000",
                                    "Porc5": "0.000000",
                                    "Porc6": "0.000000",
                                    "Porc7": "0.000000",
                                    "Porc8": "0.000000",
                                    "Porc9": "0.000000"
                                },
                                {
                                    "Id": "001f05a3-c0ef-40b6-8d39-bf2e4299cfd1",
                                    "Codigo1": "7501011106956",
                                    "Codigo2": "",
                                    "Categoria1": "SONRICS",
                                    "Categoria2": "",
                                    "Categoria3": "",
                                    "Nombre": "MILCH HELADO",
                                    "Descripcion": "",
                                    "Unidad": "Pieza",
                                    "Unidad2": "",
                                    "EquivalenciaUnidad2": "0.000000",
                                    "Unidad3": "",
                                    "EquivalenciaUnidad3": "0.000000",
                                    "Iva": "16.000000",
                                    "PrecioCompra": "6.200000",
                                    "PrecioVenta1": "8.000000",
                                    "PrecioVenta2": "0.000000",
                                    "PrecioVenta3": "0.000000",
                                    "PrecioVenta4": "0.000000",
                                    "UnidadesMinimasPrecioVenta1": "0.000000",
                                    "UnidadesMinimasPrecioVenta2": "0.000000",
                                    "UnidadesMinimasPrecioVenta3": "0.000000",
                                    "UnidadesMinimasPrecioVenta4": "0.000000",
                                    "FechaActualizacion": "2016-03-30 21:54:18.703",
                                    "InfoPaquete": "NULL",
                                    "Eliminado": "0",
                                    "RowVersion": "0x000000000000086E",
                                    "PrecioVenta5": "0.000000",
                                    "PrecioVenta6": "0.000000",
                                    "PrecioVenta7": "0.000000",
                                    "PrecioVenta8": "0.000000",
                                    "PrecioVenta9": "0.000000",
                                    "UnidadesMinimasPrecioVenta5": "0.000000",
                                    "UnidadesMinimasPrecioVenta6": "0.000000",
                                    "UnidadesMinimasPrecioVenta7": "0.000000",
                                    "UnidadesMinimasPrecioVenta8": "0.00",
                                    "UnidadesMinimasPrecioVenta9": "0.000000",
                                    "Promociones": "NULL",
                                    "Ieps": "0.000000",
                                    "OtrosCodigos": "NULL",
                                    "StockMinino": "0.000000",
                                    "Descuento1": "0.000000",
                                    "Descuento2": "0.000000",
                                    "Descuento3": "0.000000",
                                    "Descuento4": "0.000000",
                                    "Porc1": "0.000000",
                                    "Porc2": "0.000000",
                                    "Porc3": "0.000000",
                                    "Porc4": "0.000000",
                                    "Porc5": "0.000000",
                                    "Porc6": "0.000000",
                                    "Porc7": "0.000000",
                                    "Porc8": "0.000000",
                                    "Porc9": "0.000000"
                                },
                                {
                                    "Id": "0024958e-8fce-4b4b-9109-bac5e11ebe68",
                                    "Codigo1": "BIOJUAR",
                                    "Codigo2": "",
                                    "Categoria1": "PAPELERIA",
                                    "Categoria2": "",
                                    "Categoria3": "",
                                    "Nombre": "BIOGRAFIA JUANA DE ARCO",
                                    "Descripcion": "NULL",
                                    "Unidad": "Pieza",
                                    "Unidad2": "",
                                    "EquivalenciaUnidad2": "0.000000",
                                    "Unidad3": "",
                                    "EquivalenciaUnidad3": "0.000000",
                                    "Iva": "16.000000",
                                    "PrecioCompra": "0.500000",
                                    "PrecioVenta1": "1.000000",
                                    "PrecioVenta2": "0.000000",
                                    "PrecioVenta3": "0.000000",
                                    "PrecioVenta4": "0.000000",
                                    "UnidadesMinimasPrecioVenta1": "0.000000",
                                    "UnidadesMinimasPrecioVenta2": "0.000000",
                                    "UnidadesMinimasPrecioVenta3": "0.000000",
                                    "UnidadesMinimasPrecioVenta4": "0.000000",
                                    "FechaActualizacion": "2018-07-17 18:18:50.187",
                                    "InfoPaquete": "",
                                    "Eliminado": "1",
                                    "RowVersion": "0x000000000000086F",
                                    "PrecioVenta5": "0.000000",
                                    "PrecioVenta6": "0.000000",
                                    "PrecioVenta7": "0.000000",
                                    "PrecioVenta8": "0.000000",
                                    "PrecioVenta9": "0.000000",
                                    "UnidadesMinimasPrecioVenta5": "0.000000",
                                    "UnidadesMinimasPrecioVenta6": "0.000000",
                                    "UnidadesMinimasPrecioVenta7": "0.000000",
                                    "UnidadesMinimasPrecioVenta8": "0.00",
                                    "UnidadesMinimasPrecioVenta9": "0.000000",
                                    "Promociones": "NULL",
                                    "Ieps": "0.000000",
                                    "OtrosCodigos": "NULL",
                                    "StockMinino": "0.000000",
                                    "Descuento1": "0.000000",
                                    "Descuento2": "0.000000",
                                    "Descuento3": "0.000000",
                                    "Descuento4": "0.000000",
                                    "Porc1": "0.000000",
                                    "Porc2": "0.000000",
                                    "Porc3": "0.000000",
                                    "Porc4": "0.000000",
                                    "Porc5": "0.000000",
                                    "Porc6": "0.000000",
                                    "Porc7": "0.000000",
                                    "Porc8": "0.000000",
                                    "Porc9": "0.000000"
                                },
                                {
                                    "Id": "002fec81-edd2-4fc0-8911-8af1c38756c2",
                                    "Codigo1": "7501013101256",
                                    "Codigo2": "",
                                    "Categoria1": "JUMEX",
                                    "Categoria2": "",
                                    "Categoria3": "",
                                    "Nombre": "JUMEX AMI FRUT 3 L",
                                    "Descripcion": "NULL",
                                    "Unidad": "Pieza",
                                    "Unidad2": "",
                                    "EquivalenciaUnidad2": "0.000000",
                                    "Unidad3": "",
                                    "EquivalenciaUnidad3": "0.000000",
                                    "Iva": "0.000000",
                                    "PrecioCompra": "1.000000",
                                    "PrecioVenta1": "33.000000",
                                    "PrecioVenta2": "0.000000",
                                    "PrecioVenta3": "0.000000",
                                    "PrecioVenta4": "0.000000",
                                    "UnidadesMinimasPrecioVenta1": "0.000000",
                                    "UnidadesMinimasPrecioVenta2": "0.000000",
                                    "UnidadesMinimasPrecioVenta3": "0.000000",
                                    "UnidadesMinimasPrecioVenta4": "0.000000",
                                    "FechaActualizacion": "2022-10-02 01:44:21.557",
                                    "InfoPaquete": "",
                                    "Eliminado": "0",
                                    "RowVersion": "0x0000000000000870",
                                    "PrecioVenta5": "0.000000",
                                    "PrecioVenta6": "0.000000",
                                    "PrecioVenta7": "0.000000",
                                    "PrecioVenta8": "0.000000",
                                    "PrecioVenta9": "0.000000",
                                    "UnidadesMinimasPrecioVenta5": "0.000000",
                                    "UnidadesMinimasPrecioVenta6": "0.000000",
                                    "UnidadesMinimasPrecioVenta7": "0.000000",
                                    "UnidadesMinimasPrecioVenta8": "0.00",
                                    "UnidadesMinimasPrecioVenta9": "0.000000",
                                    "Promociones": "NULL",
                                    "Ieps": "0.000000",
                                    "OtrosCodigos": "NULL",
                                    "StockMinino": "0.000000",
                                    "Descuento1": "0.000000",
                                    "Descuento2": "0.000000",
                                    "Descuento3": "0.000000",
                                    "Descuento4": "0.000000",
                                    "Porc1": "0.000000",
                                    "Porc2": "0.000000",
                                    "Porc3": "0.000000",
                                    "Porc4": "0.000000",
                                    "Porc5": "0.000000",
                                    "Porc6": "0.000000",
                                    "Porc7": "0.000000",
                                    "Porc8": "0.000000",
                                    "Porc9": "0.000000"
                                },
                                {
                                    "Id": "003534ad-5f42-40b1-9081-ecd3e4a5e46b",
                                    "Codigo1": "7501030490395",
                                    "Codigo2": "",
                                    "Categoria1": "MARINELA",
                                    "Categoria2": "",
                                    "Categoria3": "",
                                    "Nombre": "DELICIOSAS CHOCOCHISPAS 280 GR",
                                    "Descripcion": "NULL",
                                    "Unidad": "Pieza",
                                    "Unidad2": "",
                                    "EquivalenciaUnidad2": "0.000000",
                                    "Unidad3": "",
                                    "EquivalenciaUnidad3": "0.000000",
                                    "Iva": "16.000000",
                                    "PrecioCompra": "12.000000",
                                    "PrecioVenta1": "15.000000",
                                    "PrecioVenta2": "0.000000",
                                    "PrecioVenta3": "0.000000",
                                    "PrecioVenta4": "0.000000",
                                    "UnidadesMinimasPrecioVenta1": "0.000000",
                                    "UnidadesMinimasPrecioVenta2": "0.000000",
                                    "UnidadesMinimasPrecioVenta3": "0.000000",
                                    "UnidadesMinimasPrecioVenta4": "0.000000",
                                    "FechaActualizacion": "2018-12-12 17:02:42.717",
                                    "InfoPaquete": "NULL",
                                    "Eliminado": "1",
                                    "RowVersion": "0x0000000000000871",
                                    "PrecioVenta5": "0.000000",
                                    "PrecioVenta6": "0.000000",
                                    "PrecioVenta7": "0.000000",
                                    "PrecioVenta8": "0.000000",
                                    "PrecioVenta9": "0.000000",
                                    "UnidadesMinimasPrecioVenta5": "0.000000",
                                    "UnidadesMinimasPrecioVenta6": "0.000000",
                                    "UnidadesMinimasPrecioVenta7": "0.000000",
                                    "UnidadesMinimasPrecioVenta8": "0.00",
                                    "UnidadesMinimasPrecioVenta9": "0.000000",
                                    "Promociones": "NULL",
                                    "Ieps": "0.000000",
                                    "OtrosCodigos": "NULL",
                                    "StockMinino": "0.000000",
                                    "Descuento1": "0.000000",
                                    "Descuento2": "0.000000",
                                    "Descuento3": "0.000000",
                                    "Descuento4": "0.000000",
                                    "Porc1": "0.000000",
                                    "Porc2": "0.000000",
                                    "Porc3": "0.000000",
                                    "Porc4": "0.000000",
                                    "Porc5": "0.000000",
                                    "Porc6": "0.000000",
                                    "Porc7": "0.000000",
                                    "Porc8": "0.000000",
                                    "Porc9": "0.000000"
                                },
                                {
                                    "Id": "00358d39-0f57-49a6-ae80-749da4a4135f",
                                    "Codigo1": "PMON",
                                    "Codigo2": "",
                                    "Categoria1": "DULCES",
                                    "Categoria2": "",
                                    "Categoria3": "",
                                    "Nombre": "PALETA MONTES",
                                    "Descripcion": "NULL",
                                    "Unidad": "Pieza",
                                    "Unidad2": "",
                                    "EquivalenciaUnidad2": "0.000000",
                                    "Unidad3": "",
                                    "EquivalenciaUnidad3": "0.000000",
                                    "Iva": "16.000000",
                                    "PrecioCompra": "0.470000",
                                    "PrecioVenta1": "1.500000",
                                    "PrecioVenta2": "0.000000",
                                    "PrecioVenta3": "0.000000",
                                    "PrecioVenta4": "0.000000",
                                    "UnidadesMinimasPrecioVenta1": "0.000000",
                                    "UnidadesMinimasPrecioVenta2": "0.000000",
                                    "UnidadesMinimasPrecioVenta3": "0.000000",
                                    "UnidadesMinimasPrecioVenta4": "0.000000",
                                    "FechaActualizacion": "2021-05-17 15:09:50.687",
                                    "InfoPaquete": "NULL",
                                    "Eliminado": "0",
                                    "RowVersion": "0x0000000000000872",
                                    "PrecioVenta5": "0.000000",
                                    "PrecioVenta6": "0.000000",
                                    "PrecioVenta7": "0.000000",
                                    "PrecioVenta8": "0.000000",
                                    "PrecioVenta9": "0.000000",
                                    "UnidadesMinimasPrecioVenta5": "0.000000",
                                    "UnidadesMinimasPrecioVenta6": "0.000000",
                                    "UnidadesMinimasPrecioVenta7": "0.000000",
                                    "UnidadesMinimasPrecioVenta8": "0.00",
                                    "UnidadesMinimasPrecioVenta9": "0.000000",
                                    "Promociones": "NULL",
                                    "Ieps": "0.000000",
                                    "OtrosCodigos": "NULL",
                                    "StockMinino": "0.000000",
                                    "Descuento1": "0.000000",
                                    "Descuento2": "0.000000",
                                    "Descuento3": "0.000000",
                                    "Descuento4": "0.000000",
                                    "Porc1": "0.000000",
                                    "Porc2": "0.000000",
                                    "Porc3": "0.000000",
                                    "Porc4": "0.000000",
                                    "Porc5": "0.000000",
                                    "Porc6": "0.000000",
                                    "Porc7": "0.000000",
                                    "Porc8": "0.000000",
                                    "Porc9": "0.000000"
                                },
                                {
                                    "Id": "003859eb-3cb6-4b06-a071-2fc6e35ec439",
                                    "Codigo1": "BIOMAXM",
                                    "Codigo2": "",
                                    "Categoria1": "PAPELERIA",
                                    "Categoria2": "",
                                    "Categoria3": "",
                                    "Nombre": "BIOGRAFIA MAXIMILIANO",
                                    "Descripcion": "NULL",
                                    "Unidad": "Pieza",
                                    "Unidad2": "",
                                    "EquivalenciaUnidad2": "0.000000",
                                    "Unidad3": "",
                                    "EquivalenciaUnidad3": "0.000000",
                                    "Iva": "16.000000",
                                    "PrecioCompra": "0.500000",
                                    "PrecioVenta1": "1.000000",
                                    "PrecioVenta2": "0.000000",
                                    "PrecioVenta3": "0.000000",
                                    "PrecioVenta4": "0.000000",
                                    "UnidadesMinimasPrecioVenta1": "0.000000",
                                    "UnidadesMinimasPrecioVenta2": "0.000000",
                                    "UnidadesMinimasPrecioVenta3": "0.000000",
                                    "UnidadesMinimasPrecioVenta4": "0.000000",
                                    "FechaActualizacion": "2019-04-24 17:37:09.247",
                                    "InfoPaquete": "",
                                    "Eliminado": "1",
                                    "RowVersion": "0x0000000000000873",
                                    "PrecioVenta5": "0.000000",
                                    "PrecioVenta6": "0.000000",
                                    "PrecioVenta7": "0.000000",
                                    "PrecioVenta8": "0.000000",
                                    "PrecioVenta9": "0.000000",
                                    "UnidadesMinimasPrecioVenta5": "0.000000",
                                    "UnidadesMinimasPrecioVenta6": "0.000000",
                                    "UnidadesMinimasPrecioVenta7": "0.000000",
                                    "UnidadesMinimasPrecioVenta8": "0.00",
                                    "UnidadesMinimasPrecioVenta9": "0.000000",
                                    "Promociones": "NULL",
                                    "Ieps": "0.000000",
                                    "OtrosCodigos": "NULL",
                                    "StockMinino": "0.000000",
                                    "Descuento1": "0.000000",
                                    "Descuento2": "0.000000",
                                    "Descuento3": "0.000000",
                                    "Descuento4": "0.000000",
                                    "Porc1": "0.000000",
                                    "Porc2": "0.000000",
                                    "Porc3": "0.000000",
                                    "Porc4": "0.000000",
                                    "Porc5": "0.000000",
                                    "Porc6": "0.000000",
                                    "Porc7": "0.000000",
                                    "Porc8": "0.000000",
                                    "Porc9": "0.000000"
                                }
                            ]
                        },
                        "text/html": "<table><tr><th>Id</th><th>Codigo1</th><th>Codigo2</th><th>Categoria1</th><th>Categoria2</th><th>Categoria3</th><th>Nombre</th><th>Descripcion</th><th>Unidad</th><th>Unidad2</th><th>EquivalenciaUnidad2</th><th>Unidad3</th><th>EquivalenciaUnidad3</th><th>Iva</th><th>PrecioCompra</th><th>PrecioVenta1</th><th>PrecioVenta2</th><th>PrecioVenta3</th><th>PrecioVenta4</th><th>UnidadesMinimasPrecioVenta1</th><th>UnidadesMinimasPrecioVenta2</th><th>UnidadesMinimasPrecioVenta3</th><th>UnidadesMinimasPrecioVenta4</th><th>FechaActualizacion</th><th>InfoPaquete</th><th>Eliminado</th><th>RowVersion</th><th>PrecioVenta5</th><th>PrecioVenta6</th><th>PrecioVenta7</th><th>PrecioVenta8</th><th>PrecioVenta9</th><th>UnidadesMinimasPrecioVenta5</th><th>UnidadesMinimasPrecioVenta6</th><th>UnidadesMinimasPrecioVenta7</th><th>UnidadesMinimasPrecioVenta8</th><th>UnidadesMinimasPrecioVenta9</th><th>Promociones</th><th>Ieps</th><th>OtrosCodigos</th><th>StockMinino</th><th>Descuento1</th><th>Descuento2</th><th>Descuento3</th><th>Descuento4</th><th>Porc1</th><th>Porc2</th><th>Porc3</th><th>Porc4</th><th>Porc5</th><th>Porc6</th><th>Porc7</th><th>Porc8</th><th>Porc9</th></tr><tr><td>000190a9-6def-4890-8dbb-d8f457b0a062</td><td>7506309839219</td><td></td><td>HIGIENE</td><td>DESODORANTE</td><td></td><td>OLD SPICE BARRA  50 GR HAWKRIDGE</td><td>NULL</td><td>Pieza</td><td></td><td>0.000000</td><td></td><td>0.000000</td><td>16.000000</td><td>35.900000</td><td>41.000000</td><td>0.000000</td><td>0.000000</td><td>0.000000</td><td>0.000000</td><td>0.000000</td><td>0.000000</td><td>0.000000</td><td>2023-02-09 19:24:08.893</td><td></td><td>0</td><td>0x000000000000086A</td><td>0.000000</td><td>0.000000</td><td>0.000000</td><td>0.000000</td><td>0.000000</td><td>0.000000</td><td>0.000000</td><td>0.000000</td><td>0.00</td><td>0.000000</td><td>NULL</td><td>0.000000</td><td>NULL</td><td>0.000000</td><td>0.000000</td><td>0.000000</td><td>0.000000</td><td>0.000000</td><td>0.000000</td><td>0.000000</td><td>0.000000</td><td>0.000000</td><td>0.000000</td><td>0.000000</td><td>0.000000</td><td>0.000000</td><td>0.000000</td></tr><tr><td>0003c6a3-519f-4569-8046-a0f66e18bfcb</td><td>JUIZ15</td><td></td><td>BONAFONT</td><td></td><td></td><td>JUIZZY TODOS LOS SABORES 1.500 LT </td><td>NULL</td><td>Pieza</td><td></td><td>0.000000</td><td></td><td>0.000000</td><td>0.000000</td><td>15.000000</td><td>17.000000</td><td>0.000000</td><td>0.000000</td><td>0.000000</td><td>0.000000</td><td>0.000000</td><td>0.000000</td><td>0.000000</td><td>2022-07-26 16:13:19.693</td><td></td><td>0</td><td>0x000000000000086B</td><td>0.000000</td><td>0.000000</td><td>0.000000</td><td>0.000000</td><td>0.000000</td><td>0.000000</td><td>0.000000</td><td>0.000000</td><td>0.00</td><td>0.000000</td><td>NULL</td><td>0.000000</td><td>NULL</td><td>0.000000</td><td>0.000000</td><td>0.000000</td><td>0.000000</td><td>0.000000</td><td>0.000000</td><td>0.000000</td><td>0.000000</td><td>0.000000</td><td>0.000000</td><td>0.000000</td><td>0.000000</td><td>0.000000</td><td>0.000000</td></tr><tr><td>0006814c-d2ad-4e01-b27b-46093ce9ce3a</td><td>MANGUSANO</td><td></td><td>DGRANEL</td><td></td><td></td><td>GOMA 1.000 KG MANGUSANO </td><td>NULL</td><td>Kilogramo</td><td></td><td>0.000000</td><td></td><td>0.000000</td><td>0.000000</td><td>75.000000</td><td>140.000000</td><td>0.000000</td><td>0.000000</td><td>0.000000</td><td>0.010000</td><td>0.000000</td><td>0.000000</td><td>0.000000</td><td>2022-07-15 01:48:59.360</td><td></td><td>0</td><td>0x000000000000086C</td><td>0.000000</td><td>0.000000</td><td>0.000000</td><td>0.000000</td><td>0.000000</td><td>0.000000</td><td>0.000000</td><td>0.000000</td><td>0.00</td><td>0.000000</td><td>NULL</td><td>0.000000</td><td>NULL</td><td>0.000000</td><td>0.000000</td><td>0.000000</td><td>0.000000</td><td>0.000000</td><td>0.000000</td><td>0.000000</td><td>0.000000</td><td>0.000000</td><td>0.000000</td><td>0.000000</td><td>0.000000</td><td>0.000000</td><td>0.000000</td></tr><tr><td>000c2501-a71b-4d6a-b222-6bbbef349376</td><td>MGAPREP</td><td></td><td>PAPELERIA</td><td></td><td></td><td>MONOGRAFIA APARATO REPRODUCTOR</td><td>NULL</td><td>Pieza</td><td></td><td>0.000000</td><td></td><td>0.000000</td><td>16.000000</td><td>1.000000</td><td>2.000000</td><td>0.000000</td><td>0.000000</td><td>0.000000</td><td>0.000000</td><td>0.000000</td><td>0.000000</td><td>0.000000</td><td>2021-10-16 01:49:07.097</td><td></td><td>1</td><td>0x000000000000086D</td><td>0.000000</td><td>0.000000</td><td>0.000000</td><td>0.000000</td><td>0.000000</td><td>0.000000</td><td>0.000000</td><td>0.000000</td><td>0.00</td><td>0.000000</td><td>NULL</td><td>0.000000</td><td>NULL</td><td>0.000000</td><td>0.000000</td><td>0.000000</td><td>0.000000</td><td>0.000000</td><td>0.000000</td><td>0.000000</td><td>0.000000</td><td>0.000000</td><td>0.000000</td><td>0.000000</td><td>0.000000</td><td>0.000000</td><td>0.000000</td></tr><tr><td>001f05a3-c0ef-40b6-8d39-bf2e4299cfd1</td><td>7501011106956</td><td></td><td>SONRICS</td><td></td><td></td><td>MILCH HELADO</td><td></td><td>Pieza</td><td></td><td>0.000000</td><td></td><td>0.000000</td><td>16.000000</td><td>6.200000</td><td>8.000000</td><td>0.000000</td><td>0.000000</td><td>0.000000</td><td>0.000000</td><td>0.000000</td><td>0.000000</td><td>0.000000</td><td>2016-03-30 21:54:18.703</td><td>NULL</td><td>0</td><td>0x000000000000086E</td><td>0.000000</td><td>0.000000</td><td>0.000000</td><td>0.000000</td><td>0.000000</td><td>0.000000</td><td>0.000000</td><td>0.000000</td><td>0.00</td><td>0.000000</td><td>NULL</td><td>0.000000</td><td>NULL</td><td>0.000000</td><td>0.000000</td><td>0.000000</td><td>0.000000</td><td>0.000000</td><td>0.000000</td><td>0.000000</td><td>0.000000</td><td>0.000000</td><td>0.000000</td><td>0.000000</td><td>0.000000</td><td>0.000000</td><td>0.000000</td></tr><tr><td>0024958e-8fce-4b4b-9109-bac5e11ebe68</td><td>BIOJUAR</td><td></td><td>PAPELERIA</td><td></td><td></td><td>BIOGRAFIA JUANA DE ARCO</td><td>NULL</td><td>Pieza</td><td></td><td>0.000000</td><td></td><td>0.000000</td><td>16.000000</td><td>0.500000</td><td>1.000000</td><td>0.000000</td><td>0.000000</td><td>0.000000</td><td>0.000000</td><td>0.000000</td><td>0.000000</td><td>0.000000</td><td>2018-07-17 18:18:50.187</td><td></td><td>1</td><td>0x000000000000086F</td><td>0.000000</td><td>0.000000</td><td>0.000000</td><td>0.000000</td><td>0.000000</td><td>0.000000</td><td>0.000000</td><td>0.000000</td><td>0.00</td><td>0.000000</td><td>NULL</td><td>0.000000</td><td>NULL</td><td>0.000000</td><td>0.000000</td><td>0.000000</td><td>0.000000</td><td>0.000000</td><td>0.000000</td><td>0.000000</td><td>0.000000</td><td>0.000000</td><td>0.000000</td><td>0.000000</td><td>0.000000</td><td>0.000000</td><td>0.000000</td></tr><tr><td>002fec81-edd2-4fc0-8911-8af1c38756c2</td><td>7501013101256</td><td></td><td>JUMEX</td><td></td><td></td><td>JUMEX AMI FRUT 3 L</td><td>NULL</td><td>Pieza</td><td></td><td>0.000000</td><td></td><td>0.000000</td><td>0.000000</td><td>1.000000</td><td>33.000000</td><td>0.000000</td><td>0.000000</td><td>0.000000</td><td>0.000000</td><td>0.000000</td><td>0.000000</td><td>0.000000</td><td>2022-10-02 01:44:21.557</td><td></td><td>0</td><td>0x0000000000000870</td><td>0.000000</td><td>0.000000</td><td>0.000000</td><td>0.000000</td><td>0.000000</td><td>0.000000</td><td>0.000000</td><td>0.000000</td><td>0.00</td><td>0.000000</td><td>NULL</td><td>0.000000</td><td>NULL</td><td>0.000000</td><td>0.000000</td><td>0.000000</td><td>0.000000</td><td>0.000000</td><td>0.000000</td><td>0.000000</td><td>0.000000</td><td>0.000000</td><td>0.000000</td><td>0.000000</td><td>0.000000</td><td>0.000000</td><td>0.000000</td></tr><tr><td>003534ad-5f42-40b1-9081-ecd3e4a5e46b</td><td>7501030490395</td><td></td><td>MARINELA</td><td></td><td></td><td>DELICIOSAS CHOCOCHISPAS 280 GR</td><td>NULL</td><td>Pieza</td><td></td><td>0.000000</td><td></td><td>0.000000</td><td>16.000000</td><td>12.000000</td><td>15.000000</td><td>0.000000</td><td>0.000000</td><td>0.000000</td><td>0.000000</td><td>0.000000</td><td>0.000000</td><td>0.000000</td><td>2018-12-12 17:02:42.717</td><td>NULL</td><td>1</td><td>0x0000000000000871</td><td>0.000000</td><td>0.000000</td><td>0.000000</td><td>0.000000</td><td>0.000000</td><td>0.000000</td><td>0.000000</td><td>0.000000</td><td>0.00</td><td>0.000000</td><td>NULL</td><td>0.000000</td><td>NULL</td><td>0.000000</td><td>0.000000</td><td>0.000000</td><td>0.000000</td><td>0.000000</td><td>0.000000</td><td>0.000000</td><td>0.000000</td><td>0.000000</td><td>0.000000</td><td>0.000000</td><td>0.000000</td><td>0.000000</td><td>0.000000</td></tr><tr><td>00358d39-0f57-49a6-ae80-749da4a4135f</td><td>PMON</td><td></td><td>DULCES</td><td></td><td></td><td>PALETA MONTES</td><td>NULL</td><td>Pieza</td><td></td><td>0.000000</td><td></td><td>0.000000</td><td>16.000000</td><td>0.470000</td><td>1.500000</td><td>0.000000</td><td>0.000000</td><td>0.000000</td><td>0.000000</td><td>0.000000</td><td>0.000000</td><td>0.000000</td><td>2021-05-17 15:09:50.687</td><td>NULL</td><td>0</td><td>0x0000000000000872</td><td>0.000000</td><td>0.000000</td><td>0.000000</td><td>0.000000</td><td>0.000000</td><td>0.000000</td><td>0.000000</td><td>0.000000</td><td>0.00</td><td>0.000000</td><td>NULL</td><td>0.000000</td><td>NULL</td><td>0.000000</td><td>0.000000</td><td>0.000000</td><td>0.000000</td><td>0.000000</td><td>0.000000</td><td>0.000000</td><td>0.000000</td><td>0.000000</td><td>0.000000</td><td>0.000000</td><td>0.000000</td><td>0.000000</td><td>0.000000</td></tr><tr><td>003859eb-3cb6-4b06-a071-2fc6e35ec439</td><td>BIOMAXM</td><td></td><td>PAPELERIA</td><td></td><td></td><td>BIOGRAFIA MAXIMILIANO</td><td>NULL</td><td>Pieza</td><td></td><td>0.000000</td><td></td><td>0.000000</td><td>16.000000</td><td>0.500000</td><td>1.000000</td><td>0.000000</td><td>0.000000</td><td>0.000000</td><td>0.000000</td><td>0.000000</td><td>0.000000</td><td>0.000000</td><td>2019-04-24 17:37:09.247</td><td></td><td>1</td><td>0x0000000000000873</td><td>0.000000</td><td>0.000000</td><td>0.000000</td><td>0.000000</td><td>0.000000</td><td>0.000000</td><td>0.000000</td><td>0.000000</td><td>0.00</td><td>0.000000</td><td>NULL</td><td>0.000000</td><td>NULL</td><td>0.000000</td><td>0.000000</td><td>0.000000</td><td>0.000000</td><td>0.000000</td><td>0.000000</td><td>0.000000</td><td>0.000000</td><td>0.000000</td><td>0.000000</td><td>0.000000</td><td>0.000000</td><td>0.000000</td><td>0.000000</td></tr></table>"
                    },
                    "metadata": {}
                }
            ],
            "execution_count": 7
        },
        {
            "cell_type": "code",
            "source": [
                "sp_helpindex 'LineaVentas'"
            ],
            "metadata": {
                "azdata_cell_guid": "9d1fc658-a56d-4eb9-9b8a-e1d53b088167",
                "language": "sql"
            },
            "outputs": [
                {
                    "output_type": "display_data",
                    "data": {
                        "text/html": "Commands completed successfully."
                    },
                    "metadata": {}
                },
                {
                    "output_type": "display_data",
                    "data": {
                        "text/html": "Total execution time: 00:00:00.061"
                    },
                    "metadata": {}
                },
                {
                    "output_type": "execute_result",
                    "execution_count": 6,
                    "data": {
                        "application/vnd.dataresource+json": {
                            "schema": {
                                "fields": [
                                    {
                                        "name": "index_name"
                                    },
                                    {
                                        "name": "index_description"
                                    },
                                    {
                                        "name": "index_keys"
                                    }
                                ]
                            },
                            "data": [
                                {
                                    "index_name": "IX_ArticuloId",
                                    "index_description": "nonclustered",
                                    "index_keys": "ArticuloId"
                                },
                                {
                                    "index_name": "IX_VentaId",
                                    "index_description": "nonclustered",
                                    "index_keys": "VentaId"
                                },
                                {
                                    "index_name": "PK_T_5.LineaVentas",
                                    "index_description": "clustered, unique, primary key",
                                    "index_keys": "VentaId, Numero"
                                }
                            ]
                        },
                        "text/html": "<table><tr><th>index_name</th><th>index_description</th><th>index_keys</th></tr><tr><td>IX_ArticuloId</td><td>nonclustered</td><td>ArticuloId</td></tr><tr><td>IX_VentaId</td><td>nonclustered</td><td>VentaId</td></tr><tr><td>PK_T_5.LineaVentas</td><td>clustered, unique, primary key</td><td>VentaId, Numero</td></tr></table>"
                    },
                    "metadata": {}
                }
            ],
            "execution_count": 6
        },
        {
            "cell_type": "code",
            "source": [
                "--Ventas del día anterior vs día actual.\r\n",
                "SELECT 'Ayer' Momento, SUM(Total) Total\r\n",
                "FROM Ventas\r\n",
                "WHERE Fecha BETWEEN '2022-01-26 00:00:00' AND '2022-01-26 23:59:59' AND Estado = 0\r\n",
                "UNION ALL\r\n",
                "SELECT 'Hoy' Momento, SUM(Total)\r\n",
                "FROM Ventas\r\n",
                "WHERE Fecha BETWEEN '2022-01-27 00:00:00' AND '2022-01-27 23:59:59' AND Estado = 0\r\n",
                "\r\n",
                ""
            ],
            "metadata": {
                "azdata_cell_guid": "8e45d492-5006-4861-ad67-5641bde757ef",
                "language": "sql"
            },
            "outputs": [
                {
                    "output_type": "display_data",
                    "data": {
                        "text/html": "(2 rows affected)"
                    },
                    "metadata": {}
                },
                {
                    "output_type": "display_data",
                    "data": {
                        "text/html": "Total execution time: 00:00:00.047"
                    },
                    "metadata": {}
                },
                {
                    "output_type": "execute_result",
                    "execution_count": 15,
                    "data": {
                        "application/vnd.dataresource+json": {
                            "schema": {
                                "fields": [
                                    {
                                        "name": "Momento"
                                    },
                                    {
                                        "name": "Total"
                                    }
                                ]
                            },
                            "data": [
                                {
                                    "Momento": "Ayer",
                                    "Total": "9556.010000"
                                },
                                {
                                    "Momento": "Hoy",
                                    "Total": "8935.500000"
                                }
                            ]
                        },
                        "text/html": "<table><tr><th>Momento</th><th>Total</th></tr><tr><td>Ayer</td><td>9556.010000</td></tr><tr><td>Hoy</td><td>8935.500000</td></tr></table>"
                    },
                    "metadata": {}
                }
            ],
            "execution_count": 15
        },
        {
            "cell_type": "code",
            "source": [
                "--Top 10 de los productos más vendidos en el mes actual\r\n",
                "--COCA COLA 500ml\r\n",
                "--CIGARROS Marlboro xxxxx\r\n",
                "--...\r\n",
                "--AGUA PURIFICADA CIEL 400ml\r\n",
                "\r\n",
                "SELECT TOP 10 NombreArticulo, SUM(Cantidad)\r\n",
                "FROM LineaVentas lv\r\n",
                "INNER JOIN Ventas v ON v.Id = lv.VentaId\r\n",
                "WHERE v.Fecha BETWEEN '2022-01-01 00:00:00' AND '2022-01-30 23:59:59' AND Estado = 0\r\n",
                "GROUP BY NombreArticulo\r\n",
                "ORDER BY 2 DESC"
            ],
            "metadata": {
                "azdata_cell_guid": "073789ae-b2bf-4d47-b756-b20b43f1686d",
                "language": "sql",
                "tags": []
            },
            "outputs": [
                {
                    "output_type": "display_data",
                    "data": {
                        "text/html": "(10 rows affected)"
                    },
                    "metadata": {}
                },
                {
                    "output_type": "display_data",
                    "data": {
                        "text/html": "Total execution time: 00:00:01.910"
                    },
                    "metadata": {}
                },
                {
                    "output_type": "execute_result",
                    "execution_count": 14,
                    "data": {
                        "application/vnd.dataresource+json": {
                            "schema": {
                                "fields": [
                                    {
                                        "name": "NombreArticulo"
                                    },
                                    {
                                        "name": "(No column name)"
                                    }
                                ]
                            },
                            "data": [
                                {
                                    "NombreArticulo": "VASOS SUELTO",
                                    "(No column name)": "1438.000000"
                                },
                                {
                                    "NombreArticulo": "MARLBORO 20 ROJOS",
                                    "(No column name)": "857.000000"
                                },
                                {
                                    "NombreArticulo": "COCA  0.600 LT",
                                    "(No column name)": "615.000000"
                                },
                                {
                                    "NombreArticulo": "COCA  0.400 LT",
                                    "(No column name)": "506.000000"
                                },
                                {
                                    "NombreArticulo": "AUM $ 5.00",
                                    "(No column name)": "485.000000"
                                },
                                {
                                    "NombreArticulo": "BUBLI BUBLI",
                                    "(No column name)": "341.000000"
                                },
                                {
                                    "NombreArticulo": "COCA  0.500 LT",
                                    "(No column name)": "321.000000"
                                },
                                {
                                    "NombreArticulo": "MARLBORO 20 ROJOS 100'S",
                                    "(No column name)": "302.000000"
                                },
                                {
                                    "NombreArticulo": "CHESTERFIELD C/FILTRO 24+1",
                                    "(No column name)": "277.000000"
                                },
                                {
                                    "NombreArticulo": "CHESTERFIELD C/FILTRO 20",
                                    "(No column name)": "242.000000"
                                }
                            ]
                        },
                        "text/html": "<table><tr><th>NombreArticulo</th><th>(No column name)</th></tr><tr><td>VASOS SUELTO</td><td>1438.000000</td></tr><tr><td>MARLBORO 20 ROJOS</td><td>857.000000</td></tr><tr><td>COCA  0.600 LT</td><td>615.000000</td></tr><tr><td>COCA  0.400 LT</td><td>506.000000</td></tr><tr><td>AUM $ 5.00</td><td>485.000000</td></tr><tr><td>BUBLI BUBLI</td><td>341.000000</td></tr><tr><td>COCA  0.500 LT</td><td>321.000000</td></tr><tr><td>MARLBORO 20 ROJOS 100&#39;S</td><td>302.000000</td></tr><tr><td>CHESTERFIELD C/FILTRO 24+1</td><td>277.000000</td></tr><tr><td>CHESTERFIELD C/FILTRO 20</td><td>242.000000</td></tr></table>"
                    },
                    "metadata": {}
                }
            ],
            "execution_count": 14
        },
        {
            "cell_type": "code",
            "source": [
                "SELECT TOP 10 * FROM Articulos\r\n",
                ""
            ],
            "metadata": {
                "azdata_cell_guid": "6e4c9e26-271d-4609-8a03-a0b92b2cac38",
                "language": "sql"
            },
            "outputs": [
                {
                    "output_type": "display_data",
                    "data": {
                        "text/html": "(10 rows affected)"
                    },
                    "metadata": {}
                },
                {
                    "output_type": "display_data",
                    "data": {
                        "text/html": "Total execution time: 00:00:00.038"
                    },
                    "metadata": {}
                },
                {
                    "output_type": "execute_result",
                    "metadata": {},
                    "execution_count": 2,
                    "data": {
                        "application/vnd.dataresource+json": {
                            "schema": {
                                "fields": [
                                    {
                                        "name": "Id"
                                    },
                                    {
                                        "name": "Codigo1"
                                    },
                                    {
                                        "name": "Codigo2"
                                    },
                                    {
                                        "name": "Categoria1"
                                    },
                                    {
                                        "name": "Categoria2"
                                    },
                                    {
                                        "name": "Categoria3"
                                    },
                                    {
                                        "name": "Nombre"
                                    },
                                    {
                                        "name": "Descripcion"
                                    },
                                    {
                                        "name": "Unidad"
                                    },
                                    {
                                        "name": "Unidad2"
                                    },
                                    {
                                        "name": "EquivalenciaUnidad2"
                                    },
                                    {
                                        "name": "Unidad3"
                                    },
                                    {
                                        "name": "EquivalenciaUnidad3"
                                    },
                                    {
                                        "name": "Iva"
                                    },
                                    {
                                        "name": "PrecioCompra"
                                    },
                                    {
                                        "name": "PrecioVenta1"
                                    },
                                    {
                                        "name": "PrecioVenta2"
                                    },
                                    {
                                        "name": "PrecioVenta3"
                                    },
                                    {
                                        "name": "PrecioVenta4"
                                    },
                                    {
                                        "name": "UnidadesMinimasPrecioVenta1"
                                    },
                                    {
                                        "name": "UnidadesMinimasPrecioVenta2"
                                    },
                                    {
                                        "name": "UnidadesMinimasPrecioVenta3"
                                    },
                                    {
                                        "name": "UnidadesMinimasPrecioVenta4"
                                    },
                                    {
                                        "name": "FechaActualizacion"
                                    },
                                    {
                                        "name": "InfoPaquete"
                                    },
                                    {
                                        "name": "Eliminado"
                                    },
                                    {
                                        "name": "RowVersion"
                                    },
                                    {
                                        "name": "PrecioVenta5"
                                    },
                                    {
                                        "name": "PrecioVenta6"
                                    },
                                    {
                                        "name": "PrecioVenta7"
                                    },
                                    {
                                        "name": "PrecioVenta8"
                                    },
                                    {
                                        "name": "PrecioVenta9"
                                    },
                                    {
                                        "name": "UnidadesMinimasPrecioVenta5"
                                    },
                                    {
                                        "name": "UnidadesMinimasPrecioVenta6"
                                    },
                                    {
                                        "name": "UnidadesMinimasPrecioVenta7"
                                    },
                                    {
                                        "name": "UnidadesMinimasPrecioVenta8"
                                    },
                                    {
                                        "name": "UnidadesMinimasPrecioVenta9"
                                    },
                                    {
                                        "name": "Promociones"
                                    },
                                    {
                                        "name": "Ieps"
                                    },
                                    {
                                        "name": "OtrosCodigos"
                                    },
                                    {
                                        "name": "StockMinino"
                                    },
                                    {
                                        "name": "Descuento1"
                                    },
                                    {
                                        "name": "Descuento2"
                                    },
                                    {
                                        "name": "Descuento3"
                                    },
                                    {
                                        "name": "Descuento4"
                                    },
                                    {
                                        "name": "Porc1"
                                    },
                                    {
                                        "name": "Porc2"
                                    },
                                    {
                                        "name": "Porc3"
                                    },
                                    {
                                        "name": "Porc4"
                                    },
                                    {
                                        "name": "Porc5"
                                    },
                                    {
                                        "name": "Porc6"
                                    },
                                    {
                                        "name": "Porc7"
                                    },
                                    {
                                        "name": "Porc8"
                                    },
                                    {
                                        "name": "Porc9"
                                    }
                                ]
                            },
                            "data": [
                                {
                                    "Id": "000190a9-6def-4890-8dbb-d8f457b0a062",
                                    "Codigo1": "7506309839219",
                                    "Codigo2": "",
                                    "Categoria1": "HIGIENE",
                                    "Categoria2": "DESODORANTE",
                                    "Categoria3": "",
                                    "Nombre": "OLD SPICE BARRA  50 GR HAWKRIDGE",
                                    "Descripcion": "NULL",
                                    "Unidad": "Pieza",
                                    "Unidad2": "",
                                    "EquivalenciaUnidad2": "0.000000",
                                    "Unidad3": "",
                                    "EquivalenciaUnidad3": "0.000000",
                                    "Iva": "16.000000",
                                    "PrecioCompra": "35.900000",
                                    "PrecioVenta1": "41.000000",
                                    "PrecioVenta2": "0.000000",
                                    "PrecioVenta3": "0.000000",
                                    "PrecioVenta4": "0.000000",
                                    "UnidadesMinimasPrecioVenta1": "0.000000",
                                    "UnidadesMinimasPrecioVenta2": "0.000000",
                                    "UnidadesMinimasPrecioVenta3": "0.000000",
                                    "UnidadesMinimasPrecioVenta4": "0.000000",
                                    "FechaActualizacion": "2023-02-09 19:24:08.893",
                                    "InfoPaquete": "",
                                    "Eliminado": "0",
                                    "RowVersion": "0x000000000000086A",
                                    "PrecioVenta5": "0.000000",
                                    "PrecioVenta6": "0.000000",
                                    "PrecioVenta7": "0.000000",
                                    "PrecioVenta8": "0.000000",
                                    "PrecioVenta9": "0.000000",
                                    "UnidadesMinimasPrecioVenta5": "0.000000",
                                    "UnidadesMinimasPrecioVenta6": "0.000000",
                                    "UnidadesMinimasPrecioVenta7": "0.000000",
                                    "UnidadesMinimasPrecioVenta8": "0.00",
                                    "UnidadesMinimasPrecioVenta9": "0.000000",
                                    "Promociones": "NULL",
                                    "Ieps": "0.000000",
                                    "OtrosCodigos": "NULL",
                                    "StockMinino": "0.000000",
                                    "Descuento1": "0.000000",
                                    "Descuento2": "0.000000",
                                    "Descuento3": "0.000000",
                                    "Descuento4": "0.000000",
                                    "Porc1": "0.000000",
                                    "Porc2": "0.000000",
                                    "Porc3": "0.000000",
                                    "Porc4": "0.000000",
                                    "Porc5": "0.000000",
                                    "Porc6": "0.000000",
                                    "Porc7": "0.000000",
                                    "Porc8": "0.000000",
                                    "Porc9": "0.000000"
                                },
                                {
                                    "Id": "0003c6a3-519f-4569-8046-a0f66e18bfcb",
                                    "Codigo1": "JUIZ15",
                                    "Codigo2": "",
                                    "Categoria1": "BONAFONT",
                                    "Categoria2": "",
                                    "Categoria3": "",
                                    "Nombre": "JUIZZY TODOS LOS SABORES 1.500 LT ",
                                    "Descripcion": "NULL",
                                    "Unidad": "Pieza",
                                    "Unidad2": "",
                                    "EquivalenciaUnidad2": "0.000000",
                                    "Unidad3": "",
                                    "EquivalenciaUnidad3": "0.000000",
                                    "Iva": "0.000000",
                                    "PrecioCompra": "15.000000",
                                    "PrecioVenta1": "17.000000",
                                    "PrecioVenta2": "0.000000",
                                    "PrecioVenta3": "0.000000",
                                    "PrecioVenta4": "0.000000",
                                    "UnidadesMinimasPrecioVenta1": "0.000000",
                                    "UnidadesMinimasPrecioVenta2": "0.000000",
                                    "UnidadesMinimasPrecioVenta3": "0.000000",
                                    "UnidadesMinimasPrecioVenta4": "0.000000",
                                    "FechaActualizacion": "2022-07-26 16:13:19.693",
                                    "InfoPaquete": "",
                                    "Eliminado": "0",
                                    "RowVersion": "0x000000000000086B",
                                    "PrecioVenta5": "0.000000",
                                    "PrecioVenta6": "0.000000",
                                    "PrecioVenta7": "0.000000",
                                    "PrecioVenta8": "0.000000",
                                    "PrecioVenta9": "0.000000",
                                    "UnidadesMinimasPrecioVenta5": "0.000000",
                                    "UnidadesMinimasPrecioVenta6": "0.000000",
                                    "UnidadesMinimasPrecioVenta7": "0.000000",
                                    "UnidadesMinimasPrecioVenta8": "0.00",
                                    "UnidadesMinimasPrecioVenta9": "0.000000",
                                    "Promociones": "NULL",
                                    "Ieps": "0.000000",
                                    "OtrosCodigos": "NULL",
                                    "StockMinino": "0.000000",
                                    "Descuento1": "0.000000",
                                    "Descuento2": "0.000000",
                                    "Descuento3": "0.000000",
                                    "Descuento4": "0.000000",
                                    "Porc1": "0.000000",
                                    "Porc2": "0.000000",
                                    "Porc3": "0.000000",
                                    "Porc4": "0.000000",
                                    "Porc5": "0.000000",
                                    "Porc6": "0.000000",
                                    "Porc7": "0.000000",
                                    "Porc8": "0.000000",
                                    "Porc9": "0.000000"
                                },
                                {
                                    "Id": "0006814c-d2ad-4e01-b27b-46093ce9ce3a",
                                    "Codigo1": "MANGUSANO",
                                    "Codigo2": "",
                                    "Categoria1": "DGRANEL",
                                    "Categoria2": "",
                                    "Categoria3": "",
                                    "Nombre": "GOMA 1.000 KG MANGUSANO ",
                                    "Descripcion": "NULL",
                                    "Unidad": "Kilogramo",
                                    "Unidad2": "",
                                    "EquivalenciaUnidad2": "0.000000",
                                    "Unidad3": "",
                                    "EquivalenciaUnidad3": "0.000000",
                                    "Iva": "0.000000",
                                    "PrecioCompra": "75.000000",
                                    "PrecioVenta1": "140.000000",
                                    "PrecioVenta2": "0.000000",
                                    "PrecioVenta3": "0.000000",
                                    "PrecioVenta4": "0.000000",
                                    "UnidadesMinimasPrecioVenta1": "0.010000",
                                    "UnidadesMinimasPrecioVenta2": "0.000000",
                                    "UnidadesMinimasPrecioVenta3": "0.000000",
                                    "UnidadesMinimasPrecioVenta4": "0.000000",
                                    "FechaActualizacion": "2022-07-15 01:48:59.360",
                                    "InfoPaquete": "",
                                    "Eliminado": "0",
                                    "RowVersion": "0x000000000000086C",
                                    "PrecioVenta5": "0.000000",
                                    "PrecioVenta6": "0.000000",
                                    "PrecioVenta7": "0.000000",
                                    "PrecioVenta8": "0.000000",
                                    "PrecioVenta9": "0.000000",
                                    "UnidadesMinimasPrecioVenta5": "0.000000",
                                    "UnidadesMinimasPrecioVenta6": "0.000000",
                                    "UnidadesMinimasPrecioVenta7": "0.000000",
                                    "UnidadesMinimasPrecioVenta8": "0.00",
                                    "UnidadesMinimasPrecioVenta9": "0.000000",
                                    "Promociones": "NULL",
                                    "Ieps": "0.000000",
                                    "OtrosCodigos": "NULL",
                                    "StockMinino": "0.000000",
                                    "Descuento1": "0.000000",
                                    "Descuento2": "0.000000",
                                    "Descuento3": "0.000000",
                                    "Descuento4": "0.000000",
                                    "Porc1": "0.000000",
                                    "Porc2": "0.000000",
                                    "Porc3": "0.000000",
                                    "Porc4": "0.000000",
                                    "Porc5": "0.000000",
                                    "Porc6": "0.000000",
                                    "Porc7": "0.000000",
                                    "Porc8": "0.000000",
                                    "Porc9": "0.000000"
                                },
                                {
                                    "Id": "000c2501-a71b-4d6a-b222-6bbbef349376",
                                    "Codigo1": "MGAPREP",
                                    "Codigo2": "",
                                    "Categoria1": "PAPELERIA",
                                    "Categoria2": "",
                                    "Categoria3": "",
                                    "Nombre": "MONOGRAFIA APARATO REPRODUCTOR",
                                    "Descripcion": "NULL",
                                    "Unidad": "Pieza",
                                    "Unidad2": "",
                                    "EquivalenciaUnidad2": "0.000000",
                                    "Unidad3": "",
                                    "EquivalenciaUnidad3": "0.000000",
                                    "Iva": "16.000000",
                                    "PrecioCompra": "1.000000",
                                    "PrecioVenta1": "2.000000",
                                    "PrecioVenta2": "0.000000",
                                    "PrecioVenta3": "0.000000",
                                    "PrecioVenta4": "0.000000",
                                    "UnidadesMinimasPrecioVenta1": "0.000000",
                                    "UnidadesMinimasPrecioVenta2": "0.000000",
                                    "UnidadesMinimasPrecioVenta3": "0.000000",
                                    "UnidadesMinimasPrecioVenta4": "0.000000",
                                    "FechaActualizacion": "2021-10-16 01:49:07.097",
                                    "InfoPaquete": "",
                                    "Eliminado": "1",
                                    "RowVersion": "0x000000000000086D",
                                    "PrecioVenta5": "0.000000",
                                    "PrecioVenta6": "0.000000",
                                    "PrecioVenta7": "0.000000",
                                    "PrecioVenta8": "0.000000",
                                    "PrecioVenta9": "0.000000",
                                    "UnidadesMinimasPrecioVenta5": "0.000000",
                                    "UnidadesMinimasPrecioVenta6": "0.000000",
                                    "UnidadesMinimasPrecioVenta7": "0.000000",
                                    "UnidadesMinimasPrecioVenta8": "0.00",
                                    "UnidadesMinimasPrecioVenta9": "0.000000",
                                    "Promociones": "NULL",
                                    "Ieps": "0.000000",
                                    "OtrosCodigos": "NULL",
                                    "StockMinino": "0.000000",
                                    "Descuento1": "0.000000",
                                    "Descuento2": "0.000000",
                                    "Descuento3": "0.000000",
                                    "Descuento4": "0.000000",
                                    "Porc1": "0.000000",
                                    "Porc2": "0.000000",
                                    "Porc3": "0.000000",
                                    "Porc4": "0.000000",
                                    "Porc5": "0.000000",
                                    "Porc6": "0.000000",
                                    "Porc7": "0.000000",
                                    "Porc8": "0.000000",
                                    "Porc9": "0.000000"
                                },
                                {
                                    "Id": "001f05a3-c0ef-40b6-8d39-bf2e4299cfd1",
                                    "Codigo1": "7501011106956",
                                    "Codigo2": "",
                                    "Categoria1": "SONRICS",
                                    "Categoria2": "",
                                    "Categoria3": "",
                                    "Nombre": "MILCH HELADO",
                                    "Descripcion": "",
                                    "Unidad": "Pieza",
                                    "Unidad2": "",
                                    "EquivalenciaUnidad2": "0.000000",
                                    "Unidad3": "",
                                    "EquivalenciaUnidad3": "0.000000",
                                    "Iva": "16.000000",
                                    "PrecioCompra": "6.200000",
                                    "PrecioVenta1": "8.000000",
                                    "PrecioVenta2": "0.000000",
                                    "PrecioVenta3": "0.000000",
                                    "PrecioVenta4": "0.000000",
                                    "UnidadesMinimasPrecioVenta1": "0.000000",
                                    "UnidadesMinimasPrecioVenta2": "0.000000",
                                    "UnidadesMinimasPrecioVenta3": "0.000000",
                                    "UnidadesMinimasPrecioVenta4": "0.000000",
                                    "FechaActualizacion": "2016-03-30 21:54:18.703",
                                    "InfoPaquete": "NULL",
                                    "Eliminado": "0",
                                    "RowVersion": "0x000000000000086E",
                                    "PrecioVenta5": "0.000000",
                                    "PrecioVenta6": "0.000000",
                                    "PrecioVenta7": "0.000000",
                                    "PrecioVenta8": "0.000000",
                                    "PrecioVenta9": "0.000000",
                                    "UnidadesMinimasPrecioVenta5": "0.000000",
                                    "UnidadesMinimasPrecioVenta6": "0.000000",
                                    "UnidadesMinimasPrecioVenta7": "0.000000",
                                    "UnidadesMinimasPrecioVenta8": "0.00",
                                    "UnidadesMinimasPrecioVenta9": "0.000000",
                                    "Promociones": "NULL",
                                    "Ieps": "0.000000",
                                    "OtrosCodigos": "NULL",
                                    "StockMinino": "0.000000",
                                    "Descuento1": "0.000000",
                                    "Descuento2": "0.000000",
                                    "Descuento3": "0.000000",
                                    "Descuento4": "0.000000",
                                    "Porc1": "0.000000",
                                    "Porc2": "0.000000",
                                    "Porc3": "0.000000",
                                    "Porc4": "0.000000",
                                    "Porc5": "0.000000",
                                    "Porc6": "0.000000",
                                    "Porc7": "0.000000",
                                    "Porc8": "0.000000",
                                    "Porc9": "0.000000"
                                },
                                {
                                    "Id": "0024958e-8fce-4b4b-9109-bac5e11ebe68",
                                    "Codigo1": "BIOJUAR",
                                    "Codigo2": "",
                                    "Categoria1": "PAPELERIA",
                                    "Categoria2": "",
                                    "Categoria3": "",
                                    "Nombre": "BIOGRAFIA JUANA DE ARCO",
                                    "Descripcion": "NULL",
                                    "Unidad": "Pieza",
                                    "Unidad2": "",
                                    "EquivalenciaUnidad2": "0.000000",
                                    "Unidad3": "",
                                    "EquivalenciaUnidad3": "0.000000",
                                    "Iva": "16.000000",
                                    "PrecioCompra": "0.500000",
                                    "PrecioVenta1": "1.000000",
                                    "PrecioVenta2": "0.000000",
                                    "PrecioVenta3": "0.000000",
                                    "PrecioVenta4": "0.000000",
                                    "UnidadesMinimasPrecioVenta1": "0.000000",
                                    "UnidadesMinimasPrecioVenta2": "0.000000",
                                    "UnidadesMinimasPrecioVenta3": "0.000000",
                                    "UnidadesMinimasPrecioVenta4": "0.000000",
                                    "FechaActualizacion": "2018-07-17 18:18:50.187",
                                    "InfoPaquete": "",
                                    "Eliminado": "1",
                                    "RowVersion": "0x000000000000086F",
                                    "PrecioVenta5": "0.000000",
                                    "PrecioVenta6": "0.000000",
                                    "PrecioVenta7": "0.000000",
                                    "PrecioVenta8": "0.000000",
                                    "PrecioVenta9": "0.000000",
                                    "UnidadesMinimasPrecioVenta5": "0.000000",
                                    "UnidadesMinimasPrecioVenta6": "0.000000",
                                    "UnidadesMinimasPrecioVenta7": "0.000000",
                                    "UnidadesMinimasPrecioVenta8": "0.00",
                                    "UnidadesMinimasPrecioVenta9": "0.000000",
                                    "Promociones": "NULL",
                                    "Ieps": "0.000000",
                                    "OtrosCodigos": "NULL",
                                    "StockMinino": "0.000000",
                                    "Descuento1": "0.000000",
                                    "Descuento2": "0.000000",
                                    "Descuento3": "0.000000",
                                    "Descuento4": "0.000000",
                                    "Porc1": "0.000000",
                                    "Porc2": "0.000000",
                                    "Porc3": "0.000000",
                                    "Porc4": "0.000000",
                                    "Porc5": "0.000000",
                                    "Porc6": "0.000000",
                                    "Porc7": "0.000000",
                                    "Porc8": "0.000000",
                                    "Porc9": "0.000000"
                                },
                                {
                                    "Id": "002fec81-edd2-4fc0-8911-8af1c38756c2",
                                    "Codigo1": "7501013101256",
                                    "Codigo2": "",
                                    "Categoria1": "JUMEX",
                                    "Categoria2": "",
                                    "Categoria3": "",
                                    "Nombre": "JUMEX AMI FRUT 3 L",
                                    "Descripcion": "NULL",
                                    "Unidad": "Pieza",
                                    "Unidad2": "",
                                    "EquivalenciaUnidad2": "0.000000",
                                    "Unidad3": "",
                                    "EquivalenciaUnidad3": "0.000000",
                                    "Iva": "0.000000",
                                    "PrecioCompra": "1.000000",
                                    "PrecioVenta1": "33.000000",
                                    "PrecioVenta2": "0.000000",
                                    "PrecioVenta3": "0.000000",
                                    "PrecioVenta4": "0.000000",
                                    "UnidadesMinimasPrecioVenta1": "0.000000",
                                    "UnidadesMinimasPrecioVenta2": "0.000000",
                                    "UnidadesMinimasPrecioVenta3": "0.000000",
                                    "UnidadesMinimasPrecioVenta4": "0.000000",
                                    "FechaActualizacion": "2022-10-02 01:44:21.557",
                                    "InfoPaquete": "",
                                    "Eliminado": "0",
                                    "RowVersion": "0x0000000000000870",
                                    "PrecioVenta5": "0.000000",
                                    "PrecioVenta6": "0.000000",
                                    "PrecioVenta7": "0.000000",
                                    "PrecioVenta8": "0.000000",
                                    "PrecioVenta9": "0.000000",
                                    "UnidadesMinimasPrecioVenta5": "0.000000",
                                    "UnidadesMinimasPrecioVenta6": "0.000000",
                                    "UnidadesMinimasPrecioVenta7": "0.000000",
                                    "UnidadesMinimasPrecioVenta8": "0.00",
                                    "UnidadesMinimasPrecioVenta9": "0.000000",
                                    "Promociones": "NULL",
                                    "Ieps": "0.000000",
                                    "OtrosCodigos": "NULL",
                                    "StockMinino": "0.000000",
                                    "Descuento1": "0.000000",
                                    "Descuento2": "0.000000",
                                    "Descuento3": "0.000000",
                                    "Descuento4": "0.000000",
                                    "Porc1": "0.000000",
                                    "Porc2": "0.000000",
                                    "Porc3": "0.000000",
                                    "Porc4": "0.000000",
                                    "Porc5": "0.000000",
                                    "Porc6": "0.000000",
                                    "Porc7": "0.000000",
                                    "Porc8": "0.000000",
                                    "Porc9": "0.000000"
                                },
                                {
                                    "Id": "003534ad-5f42-40b1-9081-ecd3e4a5e46b",
                                    "Codigo1": "7501030490395",
                                    "Codigo2": "",
                                    "Categoria1": "MARINELA",
                                    "Categoria2": "",
                                    "Categoria3": "",
                                    "Nombre": "DELICIOSAS CHOCOCHISPAS 280 GR",
                                    "Descripcion": "NULL",
                                    "Unidad": "Pieza",
                                    "Unidad2": "",
                                    "EquivalenciaUnidad2": "0.000000",
                                    "Unidad3": "",
                                    "EquivalenciaUnidad3": "0.000000",
                                    "Iva": "16.000000",
                                    "PrecioCompra": "12.000000",
                                    "PrecioVenta1": "15.000000",
                                    "PrecioVenta2": "0.000000",
                                    "PrecioVenta3": "0.000000",
                                    "PrecioVenta4": "0.000000",
                                    "UnidadesMinimasPrecioVenta1": "0.000000",
                                    "UnidadesMinimasPrecioVenta2": "0.000000",
                                    "UnidadesMinimasPrecioVenta3": "0.000000",
                                    "UnidadesMinimasPrecioVenta4": "0.000000",
                                    "FechaActualizacion": "2018-12-12 17:02:42.717",
                                    "InfoPaquete": "NULL",
                                    "Eliminado": "1",
                                    "RowVersion": "0x0000000000000871",
                                    "PrecioVenta5": "0.000000",
                                    "PrecioVenta6": "0.000000",
                                    "PrecioVenta7": "0.000000",
                                    "PrecioVenta8": "0.000000",
                                    "PrecioVenta9": "0.000000",
                                    "UnidadesMinimasPrecioVenta5": "0.000000",
                                    "UnidadesMinimasPrecioVenta6": "0.000000",
                                    "UnidadesMinimasPrecioVenta7": "0.000000",
                                    "UnidadesMinimasPrecioVenta8": "0.00",
                                    "UnidadesMinimasPrecioVenta9": "0.000000",
                                    "Promociones": "NULL",
                                    "Ieps": "0.000000",
                                    "OtrosCodigos": "NULL",
                                    "StockMinino": "0.000000",
                                    "Descuento1": "0.000000",
                                    "Descuento2": "0.000000",
                                    "Descuento3": "0.000000",
                                    "Descuento4": "0.000000",
                                    "Porc1": "0.000000",
                                    "Porc2": "0.000000",
                                    "Porc3": "0.000000",
                                    "Porc4": "0.000000",
                                    "Porc5": "0.000000",
                                    "Porc6": "0.000000",
                                    "Porc7": "0.000000",
                                    "Porc8": "0.000000",
                                    "Porc9": "0.000000"
                                },
                                {
                                    "Id": "00358d39-0f57-49a6-ae80-749da4a4135f",
                                    "Codigo1": "PMON",
                                    "Codigo2": "",
                                    "Categoria1": "DULCES",
                                    "Categoria2": "",
                                    "Categoria3": "",
                                    "Nombre": "PALETA MONTES",
                                    "Descripcion": "NULL",
                                    "Unidad": "Pieza",
                                    "Unidad2": "",
                                    "EquivalenciaUnidad2": "0.000000",
                                    "Unidad3": "",
                                    "EquivalenciaUnidad3": "0.000000",
                                    "Iva": "16.000000",
                                    "PrecioCompra": "0.470000",
                                    "PrecioVenta1": "1.500000",
                                    "PrecioVenta2": "0.000000",
                                    "PrecioVenta3": "0.000000",
                                    "PrecioVenta4": "0.000000",
                                    "UnidadesMinimasPrecioVenta1": "0.000000",
                                    "UnidadesMinimasPrecioVenta2": "0.000000",
                                    "UnidadesMinimasPrecioVenta3": "0.000000",
                                    "UnidadesMinimasPrecioVenta4": "0.000000",
                                    "FechaActualizacion": "2021-05-17 15:09:50.687",
                                    "InfoPaquete": "NULL",
                                    "Eliminado": "0",
                                    "RowVersion": "0x0000000000000872",
                                    "PrecioVenta5": "0.000000",
                                    "PrecioVenta6": "0.000000",
                                    "PrecioVenta7": "0.000000",
                                    "PrecioVenta8": "0.000000",
                                    "PrecioVenta9": "0.000000",
                                    "UnidadesMinimasPrecioVenta5": "0.000000",
                                    "UnidadesMinimasPrecioVenta6": "0.000000",
                                    "UnidadesMinimasPrecioVenta7": "0.000000",
                                    "UnidadesMinimasPrecioVenta8": "0.00",
                                    "UnidadesMinimasPrecioVenta9": "0.000000",
                                    "Promociones": "NULL",
                                    "Ieps": "0.000000",
                                    "OtrosCodigos": "NULL",
                                    "StockMinino": "0.000000",
                                    "Descuento1": "0.000000",
                                    "Descuento2": "0.000000",
                                    "Descuento3": "0.000000",
                                    "Descuento4": "0.000000",
                                    "Porc1": "0.000000",
                                    "Porc2": "0.000000",
                                    "Porc3": "0.000000",
                                    "Porc4": "0.000000",
                                    "Porc5": "0.000000",
                                    "Porc6": "0.000000",
                                    "Porc7": "0.000000",
                                    "Porc8": "0.000000",
                                    "Porc9": "0.000000"
                                },
                                {
                                    "Id": "003859eb-3cb6-4b06-a071-2fc6e35ec439",
                                    "Codigo1": "BIOMAXM",
                                    "Codigo2": "",
                                    "Categoria1": "PAPELERIA",
                                    "Categoria2": "",
                                    "Categoria3": "",
                                    "Nombre": "BIOGRAFIA MAXIMILIANO",
                                    "Descripcion": "NULL",
                                    "Unidad": "Pieza",
                                    "Unidad2": "",
                                    "EquivalenciaUnidad2": "0.000000",
                                    "Unidad3": "",
                                    "EquivalenciaUnidad3": "0.000000",
                                    "Iva": "16.000000",
                                    "PrecioCompra": "0.500000",
                                    "PrecioVenta1": "1.000000",
                                    "PrecioVenta2": "0.000000",
                                    "PrecioVenta3": "0.000000",
                                    "PrecioVenta4": "0.000000",
                                    "UnidadesMinimasPrecioVenta1": "0.000000",
                                    "UnidadesMinimasPrecioVenta2": "0.000000",
                                    "UnidadesMinimasPrecioVenta3": "0.000000",
                                    "UnidadesMinimasPrecioVenta4": "0.000000",
                                    "FechaActualizacion": "2019-04-24 17:37:09.247",
                                    "InfoPaquete": "",
                                    "Eliminado": "1",
                                    "RowVersion": "0x0000000000000873",
                                    "PrecioVenta5": "0.000000",
                                    "PrecioVenta6": "0.000000",
                                    "PrecioVenta7": "0.000000",
                                    "PrecioVenta8": "0.000000",
                                    "PrecioVenta9": "0.000000",
                                    "UnidadesMinimasPrecioVenta5": "0.000000",
                                    "UnidadesMinimasPrecioVenta6": "0.000000",
                                    "UnidadesMinimasPrecioVenta7": "0.000000",
                                    "UnidadesMinimasPrecioVenta8": "0.00",
                                    "UnidadesMinimasPrecioVenta9": "0.000000",
                                    "Promociones": "NULL",
                                    "Ieps": "0.000000",
                                    "OtrosCodigos": "NULL",
                                    "StockMinino": "0.000000",
                                    "Descuento1": "0.000000",
                                    "Descuento2": "0.000000",
                                    "Descuento3": "0.000000",
                                    "Descuento4": "0.000000",
                                    "Porc1": "0.000000",
                                    "Porc2": "0.000000",
                                    "Porc3": "0.000000",
                                    "Porc4": "0.000000",
                                    "Porc5": "0.000000",
                                    "Porc6": "0.000000",
                                    "Porc7": "0.000000",
                                    "Porc8": "0.000000",
                                    "Porc9": "0.000000"
                                }
                            ]
                        },
                        "text/html": [
                            "<table>",
                            "<tr><th>Id</th><th>Codigo1</th><th>Codigo2</th><th>Categoria1</th><th>Categoria2</th><th>Categoria3</th><th>Nombre</th><th>Descripcion</th><th>Unidad</th><th>Unidad2</th><th>EquivalenciaUnidad2</th><th>Unidad3</th><th>EquivalenciaUnidad3</th><th>Iva</th><th>PrecioCompra</th><th>PrecioVenta1</th><th>PrecioVenta2</th><th>PrecioVenta3</th><th>PrecioVenta4</th><th>UnidadesMinimasPrecioVenta1</th><th>UnidadesMinimasPrecioVenta2</th><th>UnidadesMinimasPrecioVenta3</th><th>UnidadesMinimasPrecioVenta4</th><th>FechaActualizacion</th><th>InfoPaquete</th><th>Eliminado</th><th>RowVersion</th><th>PrecioVenta5</th><th>PrecioVenta6</th><th>PrecioVenta7</th><th>PrecioVenta8</th><th>PrecioVenta9</th><th>UnidadesMinimasPrecioVenta5</th><th>UnidadesMinimasPrecioVenta6</th><th>UnidadesMinimasPrecioVenta7</th><th>UnidadesMinimasPrecioVenta8</th><th>UnidadesMinimasPrecioVenta9</th><th>Promociones</th><th>Ieps</th><th>OtrosCodigos</th><th>StockMinino</th><th>Descuento1</th><th>Descuento2</th><th>Descuento3</th><th>Descuento4</th><th>Porc1</th><th>Porc2</th><th>Porc3</th><th>Porc4</th><th>Porc5</th><th>Porc6</th><th>Porc7</th><th>Porc8</th><th>Porc9</th></tr>",
                            "<tr><td>000190a9-6def-4890-8dbb-d8f457b0a062</td><td>7506309839219</td><td></td><td>HIGIENE</td><td>DESODORANTE</td><td></td><td>OLD SPICE BARRA  50 GR HAWKRIDGE</td><td>NULL</td><td>Pieza</td><td></td><td>0.000000</td><td></td><td>0.000000</td><td>16.000000</td><td>35.900000</td><td>41.000000</td><td>0.000000</td><td>0.000000</td><td>0.000000</td><td>0.000000</td><td>0.000000</td><td>0.000000</td><td>0.000000</td><td>2023-02-09 19:24:08.893</td><td></td><td>0</td><td>0x000000000000086A</td><td>0.000000</td><td>0.000000</td><td>0.000000</td><td>0.000000</td><td>0.000000</td><td>0.000000</td><td>0.000000</td><td>0.000000</td><td>0.00</td><td>0.000000</td><td>NULL</td><td>0.000000</td><td>NULL</td><td>0.000000</td><td>0.000000</td><td>0.000000</td><td>0.000000</td><td>0.000000</td><td>0.000000</td><td>0.000000</td><td>0.000000</td><td>0.000000</td><td>0.000000</td><td>0.000000</td><td>0.000000</td><td>0.000000</td><td>0.000000</td></tr>",
                            "<tr><td>0003c6a3-519f-4569-8046-a0f66e18bfcb</td><td>JUIZ15</td><td></td><td>BONAFONT</td><td></td><td></td><td>JUIZZY TODOS LOS SABORES 1.500 LT </td><td>NULL</td><td>Pieza</td><td></td><td>0.000000</td><td></td><td>0.000000</td><td>0.000000</td><td>15.000000</td><td>17.000000</td><td>0.000000</td><td>0.000000</td><td>0.000000</td><td>0.000000</td><td>0.000000</td><td>0.000000</td><td>0.000000</td><td>2022-07-26 16:13:19.693</td><td></td><td>0</td><td>0x000000000000086B</td><td>0.000000</td><td>0.000000</td><td>0.000000</td><td>0.000000</td><td>0.000000</td><td>0.000000</td><td>0.000000</td><td>0.000000</td><td>0.00</td><td>0.000000</td><td>NULL</td><td>0.000000</td><td>NULL</td><td>0.000000</td><td>0.000000</td><td>0.000000</td><td>0.000000</td><td>0.000000</td><td>0.000000</td><td>0.000000</td><td>0.000000</td><td>0.000000</td><td>0.000000</td><td>0.000000</td><td>0.000000</td><td>0.000000</td><td>0.000000</td></tr>",
                            "<tr><td>0006814c-d2ad-4e01-b27b-46093ce9ce3a</td><td>MANGUSANO</td><td></td><td>DGRANEL</td><td></td><td></td><td>GOMA 1.000 KG MANGUSANO </td><td>NULL</td><td>Kilogramo</td><td></td><td>0.000000</td><td></td><td>0.000000</td><td>0.000000</td><td>75.000000</td><td>140.000000</td><td>0.000000</td><td>0.000000</td><td>0.000000</td><td>0.010000</td><td>0.000000</td><td>0.000000</td><td>0.000000</td><td>2022-07-15 01:48:59.360</td><td></td><td>0</td><td>0x000000000000086C</td><td>0.000000</td><td>0.000000</td><td>0.000000</td><td>0.000000</td><td>0.000000</td><td>0.000000</td><td>0.000000</td><td>0.000000</td><td>0.00</td><td>0.000000</td><td>NULL</td><td>0.000000</td><td>NULL</td><td>0.000000</td><td>0.000000</td><td>0.000000</td><td>0.000000</td><td>0.000000</td><td>0.000000</td><td>0.000000</td><td>0.000000</td><td>0.000000</td><td>0.000000</td><td>0.000000</td><td>0.000000</td><td>0.000000</td><td>0.000000</td></tr>",
                            "<tr><td>000c2501-a71b-4d6a-b222-6bbbef349376</td><td>MGAPREP</td><td></td><td>PAPELERIA</td><td></td><td></td><td>MONOGRAFIA APARATO REPRODUCTOR</td><td>NULL</td><td>Pieza</td><td></td><td>0.000000</td><td></td><td>0.000000</td><td>16.000000</td><td>1.000000</td><td>2.000000</td><td>0.000000</td><td>0.000000</td><td>0.000000</td><td>0.000000</td><td>0.000000</td><td>0.000000</td><td>0.000000</td><td>2021-10-16 01:49:07.097</td><td></td><td>1</td><td>0x000000000000086D</td><td>0.000000</td><td>0.000000</td><td>0.000000</td><td>0.000000</td><td>0.000000</td><td>0.000000</td><td>0.000000</td><td>0.000000</td><td>0.00</td><td>0.000000</td><td>NULL</td><td>0.000000</td><td>NULL</td><td>0.000000</td><td>0.000000</td><td>0.000000</td><td>0.000000</td><td>0.000000</td><td>0.000000</td><td>0.000000</td><td>0.000000</td><td>0.000000</td><td>0.000000</td><td>0.000000</td><td>0.000000</td><td>0.000000</td><td>0.000000</td></tr>",
                            "<tr><td>001f05a3-c0ef-40b6-8d39-bf2e4299cfd1</td><td>7501011106956</td><td></td><td>SONRICS</td><td></td><td></td><td>MILCH HELADO</td><td></td><td>Pieza</td><td></td><td>0.000000</td><td></td><td>0.000000</td><td>16.000000</td><td>6.200000</td><td>8.000000</td><td>0.000000</td><td>0.000000</td><td>0.000000</td><td>0.000000</td><td>0.000000</td><td>0.000000</td><td>0.000000</td><td>2016-03-30 21:54:18.703</td><td>NULL</td><td>0</td><td>0x000000000000086E</td><td>0.000000</td><td>0.000000</td><td>0.000000</td><td>0.000000</td><td>0.000000</td><td>0.000000</td><td>0.000000</td><td>0.000000</td><td>0.00</td><td>0.000000</td><td>NULL</td><td>0.000000</td><td>NULL</td><td>0.000000</td><td>0.000000</td><td>0.000000</td><td>0.000000</td><td>0.000000</td><td>0.000000</td><td>0.000000</td><td>0.000000</td><td>0.000000</td><td>0.000000</td><td>0.000000</td><td>0.000000</td><td>0.000000</td><td>0.000000</td></tr>",
                            "<tr><td>0024958e-8fce-4b4b-9109-bac5e11ebe68</td><td>BIOJUAR</td><td></td><td>PAPELERIA</td><td></td><td></td><td>BIOGRAFIA JUANA DE ARCO</td><td>NULL</td><td>Pieza</td><td></td><td>0.000000</td><td></td><td>0.000000</td><td>16.000000</td><td>0.500000</td><td>1.000000</td><td>0.000000</td><td>0.000000</td><td>0.000000</td><td>0.000000</td><td>0.000000</td><td>0.000000</td><td>0.000000</td><td>2018-07-17 18:18:50.187</td><td></td><td>1</td><td>0x000000000000086F</td><td>0.000000</td><td>0.000000</td><td>0.000000</td><td>0.000000</td><td>0.000000</td><td>0.000000</td><td>0.000000</td><td>0.000000</td><td>0.00</td><td>0.000000</td><td>NULL</td><td>0.000000</td><td>NULL</td><td>0.000000</td><td>0.000000</td><td>0.000000</td><td>0.000000</td><td>0.000000</td><td>0.000000</td><td>0.000000</td><td>0.000000</td><td>0.000000</td><td>0.000000</td><td>0.000000</td><td>0.000000</td><td>0.000000</td><td>0.000000</td></tr>",
                            "<tr><td>002fec81-edd2-4fc0-8911-8af1c38756c2</td><td>7501013101256</td><td></td><td>JUMEX</td><td></td><td></td><td>JUMEX AMI FRUT 3 L</td><td>NULL</td><td>Pieza</td><td></td><td>0.000000</td><td></td><td>0.000000</td><td>0.000000</td><td>1.000000</td><td>33.000000</td><td>0.000000</td><td>0.000000</td><td>0.000000</td><td>0.000000</td><td>0.000000</td><td>0.000000</td><td>0.000000</td><td>2022-10-02 01:44:21.557</td><td></td><td>0</td><td>0x0000000000000870</td><td>0.000000</td><td>0.000000</td><td>0.000000</td><td>0.000000</td><td>0.000000</td><td>0.000000</td><td>0.000000</td><td>0.000000</td><td>0.00</td><td>0.000000</td><td>NULL</td><td>0.000000</td><td>NULL</td><td>0.000000</td><td>0.000000</td><td>0.000000</td><td>0.000000</td><td>0.000000</td><td>0.000000</td><td>0.000000</td><td>0.000000</td><td>0.000000</td><td>0.000000</td><td>0.000000</td><td>0.000000</td><td>0.000000</td><td>0.000000</td></tr>",
                            "<tr><td>003534ad-5f42-40b1-9081-ecd3e4a5e46b</td><td>7501030490395</td><td></td><td>MARINELA</td><td></td><td></td><td>DELICIOSAS CHOCOCHISPAS 280 GR</td><td>NULL</td><td>Pieza</td><td></td><td>0.000000</td><td></td><td>0.000000</td><td>16.000000</td><td>12.000000</td><td>15.000000</td><td>0.000000</td><td>0.000000</td><td>0.000000</td><td>0.000000</td><td>0.000000</td><td>0.000000</td><td>0.000000</td><td>2018-12-12 17:02:42.717</td><td>NULL</td><td>1</td><td>0x0000000000000871</td><td>0.000000</td><td>0.000000</td><td>0.000000</td><td>0.000000</td><td>0.000000</td><td>0.000000</td><td>0.000000</td><td>0.000000</td><td>0.00</td><td>0.000000</td><td>NULL</td><td>0.000000</td><td>NULL</td><td>0.000000</td><td>0.000000</td><td>0.000000</td><td>0.000000</td><td>0.000000</td><td>0.000000</td><td>0.000000</td><td>0.000000</td><td>0.000000</td><td>0.000000</td><td>0.000000</td><td>0.000000</td><td>0.000000</td><td>0.000000</td></tr>",
                            "<tr><td>00358d39-0f57-49a6-ae80-749da4a4135f</td><td>PMON</td><td></td><td>DULCES</td><td></td><td></td><td>PALETA MONTES</td><td>NULL</td><td>Pieza</td><td></td><td>0.000000</td><td></td><td>0.000000</td><td>16.000000</td><td>0.470000</td><td>1.500000</td><td>0.000000</td><td>0.000000</td><td>0.000000</td><td>0.000000</td><td>0.000000</td><td>0.000000</td><td>0.000000</td><td>2021-05-17 15:09:50.687</td><td>NULL</td><td>0</td><td>0x0000000000000872</td><td>0.000000</td><td>0.000000</td><td>0.000000</td><td>0.000000</td><td>0.000000</td><td>0.000000</td><td>0.000000</td><td>0.000000</td><td>0.00</td><td>0.000000</td><td>NULL</td><td>0.000000</td><td>NULL</td><td>0.000000</td><td>0.000000</td><td>0.000000</td><td>0.000000</td><td>0.000000</td><td>0.000000</td><td>0.000000</td><td>0.000000</td><td>0.000000</td><td>0.000000</td><td>0.000000</td><td>0.000000</td><td>0.000000</td><td>0.000000</td></tr>",
                            "<tr><td>003859eb-3cb6-4b06-a071-2fc6e35ec439</td><td>BIOMAXM</td><td></td><td>PAPELERIA</td><td></td><td></td><td>BIOGRAFIA MAXIMILIANO</td><td>NULL</td><td>Pieza</td><td></td><td>0.000000</td><td></td><td>0.000000</td><td>16.000000</td><td>0.500000</td><td>1.000000</td><td>0.000000</td><td>0.000000</td><td>0.000000</td><td>0.000000</td><td>0.000000</td><td>0.000000</td><td>0.000000</td><td>2019-04-24 17:37:09.247</td><td></td><td>1</td><td>0x0000000000000873</td><td>0.000000</td><td>0.000000</td><td>0.000000</td><td>0.000000</td><td>0.000000</td><td>0.000000</td><td>0.000000</td><td>0.000000</td><td>0.00</td><td>0.000000</td><td>NULL</td><td>0.000000</td><td>NULL</td><td>0.000000</td><td>0.000000</td><td>0.000000</td><td>0.000000</td><td>0.000000</td><td>0.000000</td><td>0.000000</td><td>0.000000</td><td>0.000000</td><td>0.000000</td><td>0.000000</td><td>0.000000</td><td>0.000000</td><td>0.000000</td></tr>",
                            "</table>"
                        ]
                    }
                }
            ],
            "execution_count": 2
        },
        {
            "cell_type": "code",
            "source": [
                "--Top 5 de las categorías (campo Categoria1) más vendidas en el mes actual.\r\n",
                "SELECT TOP 5 a.Categoria1, SUM(lv.Cantidad) Unidades\r\n",
                "FROM LineaVentas lv\r\n",
                "INNER JOIN Ventas v ON v.Id = lv.VentaId\r\n",
                "INNER JOIN Articulos a ON a.Id = lv.ArticuloId\r\n",
                "WHERE v.Fecha BETWEEN '2022-01-01 00:00:00' AND '2022-01-30 23:59:59' AND v.Estado = 0\r\n",
                "GROUP BY a.Categoria1\r\n",
                "ORDER BY 2 DESC"
            ],
            "metadata": {
                "azdata_cell_guid": "568b4b27-6608-4741-8df5-f355d0121dfb",
                "language": "sql",
                "tags": []
            },
            "outputs": [
                {
                    "output_type": "display_data",
                    "data": {
                        "text/html": "(5 rows affected)"
                    },
                    "metadata": {}
                },
                {
                    "output_type": "display_data",
                    "data": {
                        "text/html": "Total execution time: 00:00:01.570"
                    },
                    "metadata": {}
                },
                {
                    "output_type": "execute_result",
                    "metadata": {},
                    "execution_count": 3,
                    "data": {
                        "application/vnd.dataresource+json": {
                            "schema": {
                                "fields": [
                                    {
                                        "name": "Categoria1"
                                    },
                                    {
                                        "name": "(No column name)"
                                    }
                                ]
                            },
                            "data": [
                                {
                                    "Categoria1": "COCA",
                                    "(No column name)": "3874.000000"
                                },
                                {
                                    "Categoria1": "CIGARRO",
                                    "(No column name)": "2926.000000"
                                },
                                {
                                    "Categoria1": "DULCES",
                                    "(No column name)": "2701.000000"
                                },
                                {
                                    "Categoria1": "DESECHABLES",
                                    "(No column name)": "1606.000000"
                                },
                                {
                                    "Categoria1": "ABARROTES",
                                    "(No column name)": "1038.884030"
                                }
                            ]
                        },
                        "text/html": [
                            "<table>",
                            "<tr><th>Categoria1</th><th>(No column name)</th></tr>",
                            "<tr><td>COCA</td><td>3874.000000</td></tr>",
                            "<tr><td>CIGARRO</td><td>2926.000000</td></tr>",
                            "<tr><td>DULCES</td><td>2701.000000</td></tr>",
                            "<tr><td>DESECHABLES</td><td>1606.000000</td></tr>",
                            "<tr><td>ABARROTES</td><td>1038.884030</td></tr>",
                            "</table>"
                        ]
                    }
                }
            ],
            "execution_count": 3
        }
    ]
}